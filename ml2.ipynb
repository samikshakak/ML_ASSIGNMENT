{
  "nbformat": 4,
  "nbformat_minor": 0,
  "metadata": {
    "colab": {
      "provenance": [],
      "authorship_tag": "ABX9TyPvxeA2WL1OUYJKT006t8+8",
      "include_colab_link": true
    },
    "kernelspec": {
      "name": "python3",
      "display_name": "Python 3"
    },
    "language_info": {
      "name": "python"
    }
  },
  "cells": [
    {
      "cell_type": "markdown",
      "metadata": {
        "id": "view-in-github",
        "colab_type": "text"
      },
      "source": [
        "<a href=\"https://colab.research.google.com/github/samikshakak/ML_ASSIGNMENT/blob/main/ml2.ipynb\" target=\"_parent\"><img src=\"https://colab.research.google.com/assets/colab-badge.svg\" alt=\"Open In Colab\"/></a>"
      ]
    },
    {
      "cell_type": "code",
      "execution_count": null,
      "metadata": {
        "colab": {
          "base_uri": "https://localhost:8080/"
        },
        "id": "n9TtNGM1LjyJ",
        "outputId": "931a9c41-a2a6-4fe5-d5e4-241c728a9021"
      },
      "outputs": [
        {
          "output_type": "stream",
          "name": "stdout",
          "text": [
            "   CustomerID Title FirstName MiddleName  LastName Suffix  \\\n",
            "0       21173   NaN      Chad          C      Yuan    NaN   \n",
            "1       13249   NaN      Ryan        NaN     Perry    NaN   \n",
            "2       29350   NaN     Julia        NaN  Thompson    NaN   \n",
            "3       13503   NaN  Theodore        NaN     Gomez    NaN   \n",
            "4       22803   NaN  Marshall          J      Shan    NaN   \n",
            "\n",
            "             AddressLine1 AddressLine2         City    StateProvinceName  ...  \\\n",
            "0      7090 C. Mount Hood          NaN   Wollongong      New South Wales  ...   \n",
            "1     3651 Willow Lake Rd          NaN      Shawnee     British Columbia  ...   \n",
            "2  1774 Tice Valley Blvd.          NaN  West Covina           California  ...   \n",
            "3         2103 Baldwin Dr          NaN    Liverpool              England  ...   \n",
            "4         Am Gallberg 234          NaN        Werne  Nordrhein-Westfalen  ...   \n",
            "\n",
            "         Education      Occupation Gender MaritalStatus HomeOwnerFlag  \\\n",
            "0        Bachelors        Clerical      M             M             1   \n",
            "1  Partial College        Clerical      M             M             1   \n",
            "2        Bachelors        Clerical      F             S             0   \n",
            "3  Partial College  Skilled Manual      M             M             1   \n",
            "4  Partial College  Skilled Manual      M             S             1   \n",
            "\n",
            "  NumberCarsOwned NumberChildrenAtHome TotalChildren  YearlyIncome  \\\n",
            "0               3                    0             1         81916   \n",
            "1               2                    1             2         81076   \n",
            "2               3                    0             0         86387   \n",
            "3               2                    1             2         61481   \n",
            "4               1                    0             0         51804   \n",
            "\n",
            "   LastUpdated  \n",
            "0   06-03-2017  \n",
            "1   06-03-2017  \n",
            "2   06-03-2017  \n",
            "3   06-03-2017  \n",
            "4   06-03-2017  \n",
            "\n",
            "[5 rows x 24 columns]\n"
          ]
        }
      ],
      "source": [
        "import pandas as pd\n",
        "\n",
        "\n",
        "file_path = '/content/AWCustomers.csv'\n",
        "df = pd.read_csv(file_path)\n",
        "print(df.head())\n",
        "\n"
      ]
    },
    {
      "cell_type": "code",
      "source": [
        "\n",
        "print(df.info())\n",
        "\n",
        "\n",
        "print(df.describe(include='all'))\n",
        "\n",
        "\n",
        "print(df.isnull().sum())\n"
      ],
      "metadata": {
        "colab": {
          "base_uri": "https://localhost:8080/"
        },
        "id": "Ckehf2XwNXhx",
        "outputId": "9c375635-6375-4b52-85d7-8a8b9dd530a3"
      },
      "execution_count": null,
      "outputs": [
        {
          "output_type": "stream",
          "name": "stdout",
          "text": [
            "<class 'pandas.core.frame.DataFrame'>\n",
            "RangeIndex: 18361 entries, 0 to 18360\n",
            "Data columns (total 24 columns):\n",
            " #   Column                Non-Null Count  Dtype \n",
            "---  ------                --------------  ----- \n",
            " 0   CustomerID            18361 non-null  int64 \n",
            " 1   Title                 101 non-null    object\n",
            " 2   FirstName             18361 non-null  object\n",
            " 3   MiddleName            10572 non-null  object\n",
            " 4   LastName              18361 non-null  object\n",
            " 5   Suffix                3 non-null      object\n",
            " 6   AddressLine1          18361 non-null  object\n",
            " 7   AddressLine2          311 non-null    object\n",
            " 8   City                  18361 non-null  object\n",
            " 9   StateProvinceName     18361 non-null  object\n",
            " 10  CountryRegionName     18361 non-null  object\n",
            " 11  PostalCode            18361 non-null  object\n",
            " 12  PhoneNumber           18361 non-null  object\n",
            " 13  BirthDate             18361 non-null  object\n",
            " 14  Education             18361 non-null  object\n",
            " 15  Occupation            18361 non-null  object\n",
            " 16  Gender                18361 non-null  object\n",
            " 17  MaritalStatus         18361 non-null  object\n",
            " 18  HomeOwnerFlag         18361 non-null  int64 \n",
            " 19  NumberCarsOwned       18361 non-null  int64 \n",
            " 20  NumberChildrenAtHome  18361 non-null  int64 \n",
            " 21  TotalChildren         18361 non-null  int64 \n",
            " 22  YearlyIncome          18361 non-null  int64 \n",
            " 23  LastUpdated           18361 non-null  object\n",
            "dtypes: int64(6), object(18)\n",
            "memory usage: 3.4+ MB\n",
            "None\n",
            "          CustomerID Title  FirstName MiddleName LastName Suffix  \\\n",
            "count   18361.000000   101      18361      10572    18361      3   \n",
            "unique           NaN     5        670         44      375      1   \n",
            "top              NaN   Mr.  Katherine          A     Diaz    Jr.   \n",
            "freq             NaN    52         97       1287      209      3   \n",
            "mean    20241.987092   NaN        NaN        NaN      NaN    NaN   \n",
            "std      5336.332731   NaN        NaN        NaN      NaN    NaN   \n",
            "min     11000.000000   NaN        NaN        NaN      NaN    NaN   \n",
            "25%     15621.000000   NaN        NaN        NaN      NaN    NaN   \n",
            "50%     20248.000000   NaN        NaN        NaN      NaN    NaN   \n",
            "75%     24863.000000   NaN        NaN        NaN      NaN    NaN   \n",
            "max     29483.000000   NaN        NaN        NaN      NaN    NaN   \n",
            "\n",
            "             AddressLine1       AddressLine2    City StateProvinceName  ...  \\\n",
            "count               18361                311   18361             18361  ...   \n",
            "unique              12742                166     269                54  ...   \n",
            "top     Attaché de Presse  Verkaufsabteilung  London        California  ...   \n",
            "freq                   17                 34     420              4410  ...   \n",
            "mean                  NaN                NaN     NaN               NaN  ...   \n",
            "std                   NaN                NaN     NaN               NaN  ...   \n",
            "min                   NaN                NaN     NaN               NaN  ...   \n",
            "25%                   NaN                NaN     NaN               NaN  ...   \n",
            "50%                   NaN                NaN     NaN               NaN  ...   \n",
            "75%                   NaN                NaN     NaN               NaN  ...   \n",
            "max                   NaN                NaN     NaN               NaN  ...   \n",
            "\n",
            "        Education      Occupation Gender MaritalStatus HomeOwnerFlag  \\\n",
            "count       18361           18361  18361         18361  18361.000000   \n",
            "unique          5               5      2             2           NaN   \n",
            "top     Bachelors  Skilled Manual      M             M           NaN   \n",
            "freq         5325            6059   9287          9947           NaN   \n",
            "mean          NaN             NaN    NaN           NaN      0.610588   \n",
            "std           NaN             NaN    NaN           NaN      0.487630   \n",
            "min           NaN             NaN    NaN           NaN      0.000000   \n",
            "25%           NaN             NaN    NaN           NaN      0.000000   \n",
            "50%           NaN             NaN    NaN           NaN      1.000000   \n",
            "75%           NaN             NaN    NaN           NaN      1.000000   \n",
            "max           NaN             NaN    NaN           NaN      1.000000   \n",
            "\n",
            "       NumberCarsOwned NumberChildrenAtHome TotalChildren   YearlyIncome  \\\n",
            "count     18361.000000         18361.000000  18361.000000   18361.000000   \n",
            "unique             NaN                  NaN           NaN            NaN   \n",
            "top                NaN                  NaN           NaN            NaN   \n",
            "freq               NaN                  NaN           NaN            NaN   \n",
            "mean          1.270301             0.338162      0.850389   72754.779642   \n",
            "std           0.913989             0.568957      0.927315   30686.014313   \n",
            "min           0.000000             0.000000      0.000000   25435.000000   \n",
            "25%           1.000000             0.000000      0.000000   53312.000000   \n",
            "50%           1.000000             0.000000      0.000000   61851.000000   \n",
            "75%           2.000000             1.000000      2.000000   87410.000000   \n",
            "max           5.000000             3.000000      3.000000  139115.000000   \n",
            "\n",
            "        LastUpdated  \n",
            "count         18361  \n",
            "unique            2  \n",
            "top      06-03-2017  \n",
            "freq          18291  \n",
            "mean            NaN  \n",
            "std             NaN  \n",
            "min             NaN  \n",
            "25%             NaN  \n",
            "50%             NaN  \n",
            "75%             NaN  \n",
            "max             NaN  \n",
            "\n",
            "[11 rows x 24 columns]\n",
            "CustomerID                  0\n",
            "Title                   18260\n",
            "FirstName                   0\n",
            "MiddleName               7789\n",
            "LastName                    0\n",
            "Suffix                  18358\n",
            "AddressLine1                0\n",
            "AddressLine2            18050\n",
            "City                        0\n",
            "StateProvinceName           0\n",
            "CountryRegionName           0\n",
            "PostalCode                  0\n",
            "PhoneNumber                 0\n",
            "BirthDate                   0\n",
            "Education                   0\n",
            "Occupation                  0\n",
            "Gender                      0\n",
            "MaritalStatus               0\n",
            "HomeOwnerFlag               0\n",
            "NumberCarsOwned             0\n",
            "NumberChildrenAtHome        0\n",
            "TotalChildren               0\n",
            "YearlyIncome                0\n",
            "LastUpdated                 0\n",
            "dtype: int64\n"
          ]
        }
      ]
    },
    {
      "cell_type": "code",
      "source": [
        "\n",
        "df_cleaned = df.drop(['CustomerID', 'FirstName', 'LastName'], axis=1)\n",
        "print(df_cleaned.head())\n"
      ],
      "metadata": {
        "colab": {
          "base_uri": "https://localhost:8080/"
        },
        "id": "IAxnQxgzPRVo",
        "outputId": "60970f97-65b9-462b-fe8d-c04a5ec99c58"
      },
      "execution_count": null,
      "outputs": [
        {
          "output_type": "stream",
          "name": "stdout",
          "text": [
            "  Title MiddleName Suffix            AddressLine1 AddressLine2         City  \\\n",
            "0   NaN          C    NaN      7090 C. Mount Hood          NaN   Wollongong   \n",
            "1   NaN        NaN    NaN     3651 Willow Lake Rd          NaN      Shawnee   \n",
            "2   NaN        NaN    NaN  1774 Tice Valley Blvd.          NaN  West Covina   \n",
            "3   NaN        NaN    NaN         2103 Baldwin Dr          NaN    Liverpool   \n",
            "4   NaN          J    NaN         Am Gallberg 234          NaN        Werne   \n",
            "\n",
            "     StateProvinceName CountryRegionName PostalCode          PhoneNumber  ...  \\\n",
            "0      New South Wales         Australia       2500  1 (11) 500 555-0115  ...   \n",
            "1     British Columbia            Canada    V9B 2C3         787-555-0136  ...   \n",
            "2           California     United States      91791         120-555-0111  ...   \n",
            "3              England    United Kingdom     L4 4HB  1 (11) 500 555-0167  ...   \n",
            "4  Nordrhein-Westfalen           Germany      59368  1 (11) 500 555-0113  ...   \n",
            "\n",
            "         Education      Occupation Gender MaritalStatus HomeOwnerFlag  \\\n",
            "0        Bachelors        Clerical      M             M             1   \n",
            "1  Partial College        Clerical      M             M             1   \n",
            "2        Bachelors        Clerical      F             S             0   \n",
            "3  Partial College  Skilled Manual      M             M             1   \n",
            "4  Partial College  Skilled Manual      M             S             1   \n",
            "\n",
            "   NumberCarsOwned  NumberChildrenAtHome  TotalChildren  YearlyIncome  \\\n",
            "0                3                     0              1         81916   \n",
            "1                2                     1              2         81076   \n",
            "2                3                     0              0         86387   \n",
            "3                2                     1              2         61481   \n",
            "4                1                     0              0         51804   \n",
            "\n",
            "   LastUpdated  \n",
            "0   06-03-2017  \n",
            "1   06-03-2017  \n",
            "2   06-03-2017  \n",
            "3   06-03-2017  \n",
            "4   06-03-2017  \n",
            "\n",
            "[5 rows x 21 columns]\n"
          ]
        }
      ]
    },
    {
      "cell_type": "code",
      "source": [
        "try:\n",
        "    df_cleaned = df.drop(['CustomerID', 'FirstName', 'LastName'], axis=1)\n",
        "except KeyError as e:\n",
        "    print(f\"KeyError encountered: {e}\")\n",
        "    print(\"Available columns in DataFrame:\", df.columns)\n"
      ],
      "metadata": {
        "id": "09rNcQ6vR4Qk"
      },
      "execution_count": null,
      "outputs": []
    },
    {
      "cell_type": "code",
      "source": [
        "\n",
        "df_cleaned = pd.get_dummies(df_cleaned, drop_first=True)\n",
        "\n",
        "\n",
        "from sklearn.preprocessing import StandardScaler\n",
        "\n",
        "scaler = StandardScaler()\n",
        "df_cleaned[['CustomerId']] = scaler.fit_transform(df_cleaned[['CustomerId']])\n",
        "\n",
        "print(df_cleaned.head())\n",
        "\n",
        "\n"
      ],
      "metadata": {
        "colab": {
          "base_uri": "https://localhost:8080/",
          "height": 356
        },
        "id": "ZG66_LdGQk5Q",
        "outputId": "55eed152-8527-4923-8cab-001461189b2c"
      },
      "execution_count": null,
      "outputs": [
        {
          "output_type": "error",
          "ename": "KeyError",
          "evalue": "\"None of [Index(['CustomerId'], dtype='object')] are in the [columns]\"",
          "traceback": [
            "\u001b[0;31m---------------------------------------------------------------------------\u001b[0m",
            "\u001b[0;31mKeyError\u001b[0m                                  Traceback (most recent call last)",
            "\u001b[0;32m<ipython-input-12-8df8811b4631>\u001b[0m in \u001b[0;36m<cell line: 7>\u001b[0;34m()\u001b[0m\n\u001b[1;32m      5\u001b[0m \u001b[0;34m\u001b[0m\u001b[0m\n\u001b[1;32m      6\u001b[0m \u001b[0mscaler\u001b[0m \u001b[0;34m=\u001b[0m \u001b[0mStandardScaler\u001b[0m\u001b[0;34m(\u001b[0m\u001b[0;34m)\u001b[0m\u001b[0;34m\u001b[0m\u001b[0;34m\u001b[0m\u001b[0m\n\u001b[0;32m----> 7\u001b[0;31m \u001b[0mdf_cleaned\u001b[0m\u001b[0;34m[\u001b[0m\u001b[0;34m[\u001b[0m\u001b[0;34m'CustomerId'\u001b[0m\u001b[0;34m]\u001b[0m\u001b[0;34m]\u001b[0m \u001b[0;34m=\u001b[0m \u001b[0mscaler\u001b[0m\u001b[0;34m.\u001b[0m\u001b[0mfit_transform\u001b[0m\u001b[0;34m(\u001b[0m\u001b[0mdf_cleaned\u001b[0m\u001b[0;34m[\u001b[0m\u001b[0;34m[\u001b[0m\u001b[0;34m'CustomerId'\u001b[0m\u001b[0;34m]\u001b[0m\u001b[0;34m]\u001b[0m\u001b[0;34m)\u001b[0m\u001b[0;34m\u001b[0m\u001b[0;34m\u001b[0m\u001b[0m\n\u001b[0m\u001b[1;32m      8\u001b[0m \u001b[0;34m\u001b[0m\u001b[0m\n\u001b[1;32m      9\u001b[0m \u001b[0mprint\u001b[0m\u001b[0;34m(\u001b[0m\u001b[0mdf_cleaned\u001b[0m\u001b[0;34m.\u001b[0m\u001b[0mhead\u001b[0m\u001b[0;34m(\u001b[0m\u001b[0;34m)\u001b[0m\u001b[0;34m)\u001b[0m\u001b[0;34m\u001b[0m\u001b[0;34m\u001b[0m\u001b[0m\n",
            "\u001b[0;32m/usr/local/lib/python3.10/dist-packages/pandas/core/frame.py\u001b[0m in \u001b[0;36m__getitem__\u001b[0;34m(self, key)\u001b[0m\n\u001b[1;32m   3897\u001b[0m             \u001b[0;32mif\u001b[0m \u001b[0mis_iterator\u001b[0m\u001b[0;34m(\u001b[0m\u001b[0mkey\u001b[0m\u001b[0;34m)\u001b[0m\u001b[0;34m:\u001b[0m\u001b[0;34m\u001b[0m\u001b[0;34m\u001b[0m\u001b[0m\n\u001b[1;32m   3898\u001b[0m                 \u001b[0mkey\u001b[0m \u001b[0;34m=\u001b[0m \u001b[0mlist\u001b[0m\u001b[0;34m(\u001b[0m\u001b[0mkey\u001b[0m\u001b[0;34m)\u001b[0m\u001b[0;34m\u001b[0m\u001b[0;34m\u001b[0m\u001b[0m\n\u001b[0;32m-> 3899\u001b[0;31m             \u001b[0mindexer\u001b[0m \u001b[0;34m=\u001b[0m \u001b[0mself\u001b[0m\u001b[0;34m.\u001b[0m\u001b[0mcolumns\u001b[0m\u001b[0;34m.\u001b[0m\u001b[0m_get_indexer_strict\u001b[0m\u001b[0;34m(\u001b[0m\u001b[0mkey\u001b[0m\u001b[0;34m,\u001b[0m \u001b[0;34m\"columns\"\u001b[0m\u001b[0;34m)\u001b[0m\u001b[0;34m[\u001b[0m\u001b[0;36m1\u001b[0m\u001b[0;34m]\u001b[0m\u001b[0;34m\u001b[0m\u001b[0;34m\u001b[0m\u001b[0m\n\u001b[0m\u001b[1;32m   3900\u001b[0m \u001b[0;34m\u001b[0m\u001b[0m\n\u001b[1;32m   3901\u001b[0m         \u001b[0;31m# take() does not accept boolean indexers\u001b[0m\u001b[0;34m\u001b[0m\u001b[0;34m\u001b[0m\u001b[0m\n",
            "\u001b[0;32m/usr/local/lib/python3.10/dist-packages/pandas/core/indexes/base.py\u001b[0m in \u001b[0;36m_get_indexer_strict\u001b[0;34m(self, key, axis_name)\u001b[0m\n\u001b[1;32m   6113\u001b[0m             \u001b[0mkeyarr\u001b[0m\u001b[0;34m,\u001b[0m \u001b[0mindexer\u001b[0m\u001b[0;34m,\u001b[0m \u001b[0mnew_indexer\u001b[0m \u001b[0;34m=\u001b[0m \u001b[0mself\u001b[0m\u001b[0;34m.\u001b[0m\u001b[0m_reindex_non_unique\u001b[0m\u001b[0;34m(\u001b[0m\u001b[0mkeyarr\u001b[0m\u001b[0;34m)\u001b[0m\u001b[0;34m\u001b[0m\u001b[0;34m\u001b[0m\u001b[0m\n\u001b[1;32m   6114\u001b[0m \u001b[0;34m\u001b[0m\u001b[0m\n\u001b[0;32m-> 6115\u001b[0;31m         \u001b[0mself\u001b[0m\u001b[0;34m.\u001b[0m\u001b[0m_raise_if_missing\u001b[0m\u001b[0;34m(\u001b[0m\u001b[0mkeyarr\u001b[0m\u001b[0;34m,\u001b[0m \u001b[0mindexer\u001b[0m\u001b[0;34m,\u001b[0m \u001b[0maxis_name\u001b[0m\u001b[0;34m)\u001b[0m\u001b[0;34m\u001b[0m\u001b[0;34m\u001b[0m\u001b[0m\n\u001b[0m\u001b[1;32m   6116\u001b[0m \u001b[0;34m\u001b[0m\u001b[0m\n\u001b[1;32m   6117\u001b[0m         \u001b[0mkeyarr\u001b[0m \u001b[0;34m=\u001b[0m \u001b[0mself\u001b[0m\u001b[0;34m.\u001b[0m\u001b[0mtake\u001b[0m\u001b[0;34m(\u001b[0m\u001b[0mindexer\u001b[0m\u001b[0;34m)\u001b[0m\u001b[0;34m\u001b[0m\u001b[0;34m\u001b[0m\u001b[0m\n",
            "\u001b[0;32m/usr/local/lib/python3.10/dist-packages/pandas/core/indexes/base.py\u001b[0m in \u001b[0;36m_raise_if_missing\u001b[0;34m(self, key, indexer, axis_name)\u001b[0m\n\u001b[1;32m   6174\u001b[0m                 \u001b[0;32mif\u001b[0m \u001b[0muse_interval_msg\u001b[0m\u001b[0;34m:\u001b[0m\u001b[0;34m\u001b[0m\u001b[0;34m\u001b[0m\u001b[0m\n\u001b[1;32m   6175\u001b[0m                     \u001b[0mkey\u001b[0m \u001b[0;34m=\u001b[0m \u001b[0mlist\u001b[0m\u001b[0;34m(\u001b[0m\u001b[0mkey\u001b[0m\u001b[0;34m)\u001b[0m\u001b[0;34m\u001b[0m\u001b[0;34m\u001b[0m\u001b[0m\n\u001b[0;32m-> 6176\u001b[0;31m                 \u001b[0;32mraise\u001b[0m \u001b[0mKeyError\u001b[0m\u001b[0;34m(\u001b[0m\u001b[0;34mf\"None of [{key}] are in the [{axis_name}]\"\u001b[0m\u001b[0;34m)\u001b[0m\u001b[0;34m\u001b[0m\u001b[0;34m\u001b[0m\u001b[0m\n\u001b[0m\u001b[1;32m   6177\u001b[0m \u001b[0;34m\u001b[0m\u001b[0m\n\u001b[1;32m   6178\u001b[0m             \u001b[0mnot_found\u001b[0m \u001b[0;34m=\u001b[0m \u001b[0mlist\u001b[0m\u001b[0;34m(\u001b[0m\u001b[0mensure_index\u001b[0m\u001b[0;34m(\u001b[0m\u001b[0mkey\u001b[0m\u001b[0;34m)\u001b[0m\u001b[0;34m[\u001b[0m\u001b[0mmissing_mask\u001b[0m\u001b[0;34m.\u001b[0m\u001b[0mnonzero\u001b[0m\u001b[0;34m(\u001b[0m\u001b[0;34m)\u001b[0m\u001b[0;34m[\u001b[0m\u001b[0;36m0\u001b[0m\u001b[0;34m]\u001b[0m\u001b[0;34m]\u001b[0m\u001b[0;34m.\u001b[0m\u001b[0munique\u001b[0m\u001b[0;34m(\u001b[0m\u001b[0;34m)\u001b[0m\u001b[0;34m)\u001b[0m\u001b[0;34m\u001b[0m\u001b[0;34m\u001b[0m\u001b[0m\n",
            "\u001b[0;31mKeyError\u001b[0m: \"None of [Index(['CustomerId'], dtype='object')] are in the [columns]\""
          ]
        }
      ]
    },
    {
      "cell_type": "code",
      "source": [
        "import os\n",
        "import pandas as pd\n",
        "\n",
        "# Check if the file exists\n",
        "file_path = '/AWCustomers.csv'\n",
        "if os.path.exists(file_path):\n",
        "    df = pd.read_csv(file_path)\n",
        "    print(df.head())\n",
        "else:\n",
        "    print(f\"File not found: {file_path}\")\n",
        "    # List all files in the current directory\n",
        "    print(\"Files in the current directory:\", os.listdir('.'))\n",
        "\n"
      ],
      "metadata": {
        "colab": {
          "base_uri": "https://localhost:8080/"
        },
        "id": "hBh19varGSIG",
        "outputId": "c7026ade-e961-4d90-e015-d49bb21dc0b1"
      },
      "execution_count": null,
      "outputs": [
        {
          "output_type": "stream",
          "name": "stdout",
          "text": [
            "   CustomerID Title FirstName MiddleName  LastName Suffix  \\\n",
            "0       21173   NaN      Chad          C      Yuan    NaN   \n",
            "1       13249   NaN      Ryan        NaN     Perry    NaN   \n",
            "2       29350   NaN     Julia        NaN  Thompson    NaN   \n",
            "3       13503   NaN  Theodore        NaN     Gomez    NaN   \n",
            "4       22803   NaN  Marshall          J      Shan    NaN   \n",
            "\n",
            "             AddressLine1 AddressLine2         City    StateProvinceName  ...  \\\n",
            "0      7090 C. Mount Hood          NaN   Wollongong      New South Wales  ...   \n",
            "1     3651 Willow Lake Rd          NaN      Shawnee     British Columbia  ...   \n",
            "2  1774 Tice Valley Blvd.          NaN  West Covina           California  ...   \n",
            "3         2103 Baldwin Dr          NaN    Liverpool              England  ...   \n",
            "4         Am Gallberg 234          NaN        Werne  Nordrhein-Westfalen  ...   \n",
            "\n",
            "         Education      Occupation Gender MaritalStatus HomeOwnerFlag  \\\n",
            "0        Bachelors        Clerical      M             M             1   \n",
            "1  Partial College        Clerical      M             M             1   \n",
            "2        Bachelors        Clerical      F             S             0   \n",
            "3  Partial College  Skilled Manual      M             M             1   \n",
            "4  Partial College  Skilled Manual      M             S             1   \n",
            "\n",
            "  NumberCarsOwned NumberChildrenAtHome TotalChildren  YearlyIncome  \\\n",
            "0               3                    0             1         81916   \n",
            "1               2                    1             2         81076   \n",
            "2               3                    0             0         86387   \n",
            "3               2                    1             2         61481   \n",
            "4               1                    0             0         51804   \n",
            "\n",
            "   LastUpdated  \n",
            "0   06-03-2017  \n",
            "1   06-03-2017  \n",
            "2   06-03-2017  \n",
            "3   06-03-2017  \n",
            "4   06-03-2017  \n",
            "\n",
            "[5 rows x 24 columns]\n"
          ]
        }
      ]
    },
    {
      "cell_type": "code",
      "source": [
        "import pandas as pd\n",
        "\n",
        "# Assuming df is your DataFrame\n",
        "# Check for missing values\n",
        "print(df.isnull().sum())\n",
        "\n",
        "# Option 1: Drop rows with any missing values\n",
        "df = df.dropna()\n",
        "\n",
        "# Option 2: Fill missing values\n",
        "# For numeric columns, you could fill with the mean, median, or any other value\n",
        "df.fillna(df.mean(), inplace=True)\n",
        "\n",
        "# For categorical columns, you could fill with the mode\n",
        "df.fillna(df.mode().iloc[0], inplace=True)\n",
        "\n",
        "# Check again for missing values\n",
        "print(df.isnull().sum())\n",
        "import pandas as pd\n",
        "\n",
        "# Assuming df is your DataFrame\n",
        "# Check for missing values\n",
        "print(df.isnull().sum())\n",
        "\n",
        "# Option 1: Drop rows with any missing values\n",
        "df = df.dropna()\n",
        "\n",
        "# Check if the DataFrame is empty after dropping rows\n",
        "if df.empty:\n",
        "    print(\"DataFrame is empty after dropping rows with missing values.\")\n",
        "else:\n",
        "    # Option 2: Fill missing values\n",
        "    # For numeric columns, you could fill with the mean, median, or any other value\n",
        "    df.fillna(df.mean(), inplace=True)\n",
        "\n",
        "    # For categorical columns, you could fill with the mode\n",
        "    df.fillna(df.mode().iloc[0], inplace=True)\n",
        "\n",
        "# Check again for missing values\n",
        "print(df.isnull().sum())\n"
      ],
      "metadata": {
        "colab": {
          "base_uri": "https://localhost:8080/",
          "height": 807
        },
        "id": "DlXB71r6Lern",
        "outputId": "014ab62d-e286-4fca-f299-fd81153d4633"
      },
      "execution_count": null,
      "outputs": [
        {
          "output_type": "stream",
          "name": "stdout",
          "text": [
            "CustomerID              0\n",
            "Title                   0\n",
            "FirstName               0\n",
            "MiddleName              0\n",
            "LastName                0\n",
            "Suffix                  0\n",
            "AddressLine1            0\n",
            "AddressLine2            0\n",
            "City                    0\n",
            "StateProvinceName       0\n",
            "CountryRegionName       0\n",
            "PostalCode              0\n",
            "PhoneNumber             0\n",
            "BirthDate               0\n",
            "Education               0\n",
            "Occupation              0\n",
            "Gender                  0\n",
            "MaritalStatus           0\n",
            "HomeOwnerFlag           0\n",
            "NumberCarsOwned         0\n",
            "NumberChildrenAtHome    0\n",
            "TotalChildren           0\n",
            "YearlyIncome            0\n",
            "LastUpdated             0\n",
            "dtype: int64\n"
          ]
        },
        {
          "output_type": "error",
          "ename": "IndexError",
          "evalue": "single positional indexer is out-of-bounds",
          "traceback": [
            "\u001b[0;31m---------------------------------------------------------------------------\u001b[0m",
            "\u001b[0;31mIndexError\u001b[0m                                Traceback (most recent call last)",
            "\u001b[0;32m<ipython-input-13-238d8c6de5e3>\u001b[0m in \u001b[0;36m<cell line: 15>\u001b[0;34m()\u001b[0m\n\u001b[1;32m     13\u001b[0m \u001b[0;34m\u001b[0m\u001b[0m\n\u001b[1;32m     14\u001b[0m \u001b[0;31m# For categorical columns, you could fill with the mode\u001b[0m\u001b[0;34m\u001b[0m\u001b[0;34m\u001b[0m\u001b[0m\n\u001b[0;32m---> 15\u001b[0;31m \u001b[0mdf\u001b[0m\u001b[0;34m.\u001b[0m\u001b[0mfillna\u001b[0m\u001b[0;34m(\u001b[0m\u001b[0mdf\u001b[0m\u001b[0;34m.\u001b[0m\u001b[0mmode\u001b[0m\u001b[0;34m(\u001b[0m\u001b[0;34m)\u001b[0m\u001b[0;34m.\u001b[0m\u001b[0miloc\u001b[0m\u001b[0;34m[\u001b[0m\u001b[0;36m0\u001b[0m\u001b[0;34m]\u001b[0m\u001b[0;34m,\u001b[0m \u001b[0minplace\u001b[0m\u001b[0;34m=\u001b[0m\u001b[0;32mTrue\u001b[0m\u001b[0;34m)\u001b[0m\u001b[0;34m\u001b[0m\u001b[0;34m\u001b[0m\u001b[0m\n\u001b[0m\u001b[1;32m     16\u001b[0m \u001b[0;34m\u001b[0m\u001b[0m\n\u001b[1;32m     17\u001b[0m \u001b[0;31m# Check again for missing values\u001b[0m\u001b[0;34m\u001b[0m\u001b[0;34m\u001b[0m\u001b[0m\n",
            "\u001b[0;32m/usr/local/lib/python3.10/dist-packages/pandas/core/indexing.py\u001b[0m in \u001b[0;36m__getitem__\u001b[0;34m(self, key)\u001b[0m\n\u001b[1;32m   1151\u001b[0m \u001b[0;34m\u001b[0m\u001b[0m\n\u001b[1;32m   1152\u001b[0m             \u001b[0mmaybe_callable\u001b[0m \u001b[0;34m=\u001b[0m \u001b[0mcom\u001b[0m\u001b[0;34m.\u001b[0m\u001b[0mapply_if_callable\u001b[0m\u001b[0;34m(\u001b[0m\u001b[0mkey\u001b[0m\u001b[0;34m,\u001b[0m \u001b[0mself\u001b[0m\u001b[0;34m.\u001b[0m\u001b[0mobj\u001b[0m\u001b[0;34m)\u001b[0m\u001b[0;34m\u001b[0m\u001b[0;34m\u001b[0m\u001b[0m\n\u001b[0;32m-> 1153\u001b[0;31m             \u001b[0;32mreturn\u001b[0m \u001b[0mself\u001b[0m\u001b[0;34m.\u001b[0m\u001b[0m_getitem_axis\u001b[0m\u001b[0;34m(\u001b[0m\u001b[0mmaybe_callable\u001b[0m\u001b[0;34m,\u001b[0m \u001b[0maxis\u001b[0m\u001b[0;34m=\u001b[0m\u001b[0maxis\u001b[0m\u001b[0;34m)\u001b[0m\u001b[0;34m\u001b[0m\u001b[0;34m\u001b[0m\u001b[0m\n\u001b[0m\u001b[1;32m   1154\u001b[0m \u001b[0;34m\u001b[0m\u001b[0m\n\u001b[1;32m   1155\u001b[0m     \u001b[0;32mdef\u001b[0m \u001b[0m_is_scalar_access\u001b[0m\u001b[0;34m(\u001b[0m\u001b[0mself\u001b[0m\u001b[0;34m,\u001b[0m \u001b[0mkey\u001b[0m\u001b[0;34m:\u001b[0m \u001b[0mtuple\u001b[0m\u001b[0;34m)\u001b[0m\u001b[0;34m:\u001b[0m\u001b[0;34m\u001b[0m\u001b[0;34m\u001b[0m\u001b[0m\n",
            "\u001b[0;32m/usr/local/lib/python3.10/dist-packages/pandas/core/indexing.py\u001b[0m in \u001b[0;36m_getitem_axis\u001b[0;34m(self, key, axis)\u001b[0m\n\u001b[1;32m   1712\u001b[0m \u001b[0;34m\u001b[0m\u001b[0m\n\u001b[1;32m   1713\u001b[0m             \u001b[0;31m# validate the location\u001b[0m\u001b[0;34m\u001b[0m\u001b[0;34m\u001b[0m\u001b[0m\n\u001b[0;32m-> 1714\u001b[0;31m             \u001b[0mself\u001b[0m\u001b[0;34m.\u001b[0m\u001b[0m_validate_integer\u001b[0m\u001b[0;34m(\u001b[0m\u001b[0mkey\u001b[0m\u001b[0;34m,\u001b[0m \u001b[0maxis\u001b[0m\u001b[0;34m)\u001b[0m\u001b[0;34m\u001b[0m\u001b[0;34m\u001b[0m\u001b[0m\n\u001b[0m\u001b[1;32m   1715\u001b[0m \u001b[0;34m\u001b[0m\u001b[0m\n\u001b[1;32m   1716\u001b[0m             \u001b[0;32mreturn\u001b[0m \u001b[0mself\u001b[0m\u001b[0;34m.\u001b[0m\u001b[0mobj\u001b[0m\u001b[0;34m.\u001b[0m\u001b[0m_ixs\u001b[0m\u001b[0;34m(\u001b[0m\u001b[0mkey\u001b[0m\u001b[0;34m,\u001b[0m \u001b[0maxis\u001b[0m\u001b[0;34m=\u001b[0m\u001b[0maxis\u001b[0m\u001b[0;34m)\u001b[0m\u001b[0;34m\u001b[0m\u001b[0;34m\u001b[0m\u001b[0m\n",
            "\u001b[0;32m/usr/local/lib/python3.10/dist-packages/pandas/core/indexing.py\u001b[0m in \u001b[0;36m_validate_integer\u001b[0;34m(self, key, axis)\u001b[0m\n\u001b[1;32m   1645\u001b[0m         \u001b[0mlen_axis\u001b[0m \u001b[0;34m=\u001b[0m \u001b[0mlen\u001b[0m\u001b[0;34m(\u001b[0m\u001b[0mself\u001b[0m\u001b[0;34m.\u001b[0m\u001b[0mobj\u001b[0m\u001b[0;34m.\u001b[0m\u001b[0m_get_axis\u001b[0m\u001b[0;34m(\u001b[0m\u001b[0maxis\u001b[0m\u001b[0;34m)\u001b[0m\u001b[0;34m)\u001b[0m\u001b[0;34m\u001b[0m\u001b[0;34m\u001b[0m\u001b[0m\n\u001b[1;32m   1646\u001b[0m         \u001b[0;32mif\u001b[0m \u001b[0mkey\u001b[0m \u001b[0;34m>=\u001b[0m \u001b[0mlen_axis\u001b[0m \u001b[0;32mor\u001b[0m \u001b[0mkey\u001b[0m \u001b[0;34m<\u001b[0m \u001b[0;34m-\u001b[0m\u001b[0mlen_axis\u001b[0m\u001b[0;34m:\u001b[0m\u001b[0;34m\u001b[0m\u001b[0;34m\u001b[0m\u001b[0m\n\u001b[0;32m-> 1647\u001b[0;31m             \u001b[0;32mraise\u001b[0m \u001b[0mIndexError\u001b[0m\u001b[0;34m(\u001b[0m\u001b[0;34m\"single positional indexer is out-of-bounds\"\u001b[0m\u001b[0;34m)\u001b[0m\u001b[0;34m\u001b[0m\u001b[0;34m\u001b[0m\u001b[0m\n\u001b[0m\u001b[1;32m   1648\u001b[0m \u001b[0;34m\u001b[0m\u001b[0m\n\u001b[1;32m   1649\u001b[0m     \u001b[0;31m# -------------------------------------------------------------------\u001b[0m\u001b[0;34m\u001b[0m\u001b[0;34m\u001b[0m\u001b[0m\n",
            "\u001b[0;31mIndexError\u001b[0m: single positional indexer is out-of-bounds"
          ]
        }
      ]
    },
    {
      "cell_type": "code",
      "source": [],
      "metadata": {
        "colab": {
          "base_uri": "https://localhost:8080/",
          "height": 408
        },
        "id": "FIkxCje4L-7J",
        "outputId": "685ba79a-38c2-439a-803e-b4e17da8340a"
      },
      "execution_count": null,
      "outputs": [
        {
          "output_type": "error",
          "ename": "ValueError",
          "evalue": "Found array with 0 sample(s) (shape=(0, 6)) while a minimum of 1 is required by MinMaxScaler.",
          "traceback": [
            "\u001b[0;31m---------------------------------------------------------------------------\u001b[0m",
            "\u001b[0;31mValueError\u001b[0m                                Traceback (most recent call last)",
            "\u001b[0;32m<ipython-input-16-aa3342ce7b04>\u001b[0m in \u001b[0;36m<cell line: 8>\u001b[0;34m()\u001b[0m\n\u001b[1;32m      6\u001b[0m \u001b[0;31m# Normalize only the numerical features\u001b[0m\u001b[0;34m\u001b[0m\u001b[0;34m\u001b[0m\u001b[0m\n\u001b[1;32m      7\u001b[0m \u001b[0mnumerical_features\u001b[0m \u001b[0;34m=\u001b[0m \u001b[0mdf\u001b[0m\u001b[0;34m.\u001b[0m\u001b[0mselect_dtypes\u001b[0m\u001b[0;34m(\u001b[0m\u001b[0minclude\u001b[0m\u001b[0;34m=\u001b[0m\u001b[0;34m[\u001b[0m\u001b[0;34m'int64'\u001b[0m\u001b[0;34m,\u001b[0m \u001b[0;34m'float64'\u001b[0m\u001b[0;34m]\u001b[0m\u001b[0;34m)\u001b[0m\u001b[0;34m.\u001b[0m\u001b[0mcolumns\u001b[0m\u001b[0;34m\u001b[0m\u001b[0;34m\u001b[0m\u001b[0m\n\u001b[0;32m----> 8\u001b[0;31m \u001b[0mdf\u001b[0m\u001b[0;34m[\u001b[0m\u001b[0mnumerical_features\u001b[0m\u001b[0;34m]\u001b[0m \u001b[0;34m=\u001b[0m \u001b[0mscaler\u001b[0m\u001b[0;34m.\u001b[0m\u001b[0mfit_transform\u001b[0m\u001b[0;34m(\u001b[0m\u001b[0mdf\u001b[0m\u001b[0;34m[\u001b[0m\u001b[0mnumerical_features\u001b[0m\u001b[0;34m]\u001b[0m\u001b[0;34m)\u001b[0m\u001b[0;34m\u001b[0m\u001b[0;34m\u001b[0m\u001b[0m\n\u001b[0m\u001b[1;32m      9\u001b[0m \u001b[0;34m\u001b[0m\u001b[0m\n\u001b[1;32m     10\u001b[0m \u001b[0mprint\u001b[0m\u001b[0;34m(\u001b[0m\u001b[0mdf\u001b[0m\u001b[0;34m.\u001b[0m\u001b[0mhead\u001b[0m\u001b[0;34m(\u001b[0m\u001b[0;34m)\u001b[0m\u001b[0;34m)\u001b[0m\u001b[0;34m\u001b[0m\u001b[0;34m\u001b[0m\u001b[0m\n",
            "\u001b[0;32m/usr/local/lib/python3.10/dist-packages/sklearn/utils/_set_output.py\u001b[0m in \u001b[0;36mwrapped\u001b[0;34m(self, X, *args, **kwargs)\u001b[0m\n\u001b[1;32m    155\u001b[0m     \u001b[0;34m@\u001b[0m\u001b[0mwraps\u001b[0m\u001b[0;34m(\u001b[0m\u001b[0mf\u001b[0m\u001b[0;34m)\u001b[0m\u001b[0;34m\u001b[0m\u001b[0;34m\u001b[0m\u001b[0m\n\u001b[1;32m    156\u001b[0m     \u001b[0;32mdef\u001b[0m \u001b[0mwrapped\u001b[0m\u001b[0;34m(\u001b[0m\u001b[0mself\u001b[0m\u001b[0;34m,\u001b[0m \u001b[0mX\u001b[0m\u001b[0;34m,\u001b[0m \u001b[0;34m*\u001b[0m\u001b[0margs\u001b[0m\u001b[0;34m,\u001b[0m \u001b[0;34m**\u001b[0m\u001b[0mkwargs\u001b[0m\u001b[0;34m)\u001b[0m\u001b[0;34m:\u001b[0m\u001b[0;34m\u001b[0m\u001b[0;34m\u001b[0m\u001b[0m\n\u001b[0;32m--> 157\u001b[0;31m         \u001b[0mdata_to_wrap\u001b[0m \u001b[0;34m=\u001b[0m \u001b[0mf\u001b[0m\u001b[0;34m(\u001b[0m\u001b[0mself\u001b[0m\u001b[0;34m,\u001b[0m \u001b[0mX\u001b[0m\u001b[0;34m,\u001b[0m \u001b[0;34m*\u001b[0m\u001b[0margs\u001b[0m\u001b[0;34m,\u001b[0m \u001b[0;34m**\u001b[0m\u001b[0mkwargs\u001b[0m\u001b[0;34m)\u001b[0m\u001b[0;34m\u001b[0m\u001b[0;34m\u001b[0m\u001b[0m\n\u001b[0m\u001b[1;32m    158\u001b[0m         \u001b[0;32mif\u001b[0m \u001b[0misinstance\u001b[0m\u001b[0;34m(\u001b[0m\u001b[0mdata_to_wrap\u001b[0m\u001b[0;34m,\u001b[0m \u001b[0mtuple\u001b[0m\u001b[0;34m)\u001b[0m\u001b[0;34m:\u001b[0m\u001b[0;34m\u001b[0m\u001b[0;34m\u001b[0m\u001b[0m\n\u001b[1;32m    159\u001b[0m             \u001b[0;31m# only wrap the first output for cross decomposition\u001b[0m\u001b[0;34m\u001b[0m\u001b[0;34m\u001b[0m\u001b[0m\n",
            "\u001b[0;32m/usr/local/lib/python3.10/dist-packages/sklearn/base.py\u001b[0m in \u001b[0;36mfit_transform\u001b[0;34m(self, X, y, **fit_params)\u001b[0m\n\u001b[1;32m    914\u001b[0m         \u001b[0;32mif\u001b[0m \u001b[0my\u001b[0m \u001b[0;32mis\u001b[0m \u001b[0;32mNone\u001b[0m\u001b[0;34m:\u001b[0m\u001b[0;34m\u001b[0m\u001b[0;34m\u001b[0m\u001b[0m\n\u001b[1;32m    915\u001b[0m             \u001b[0;31m# fit method of arity 1 (unsupervised transformation)\u001b[0m\u001b[0;34m\u001b[0m\u001b[0;34m\u001b[0m\u001b[0m\n\u001b[0;32m--> 916\u001b[0;31m             \u001b[0;32mreturn\u001b[0m \u001b[0mself\u001b[0m\u001b[0;34m.\u001b[0m\u001b[0mfit\u001b[0m\u001b[0;34m(\u001b[0m\u001b[0mX\u001b[0m\u001b[0;34m,\u001b[0m \u001b[0;34m**\u001b[0m\u001b[0mfit_params\u001b[0m\u001b[0;34m)\u001b[0m\u001b[0;34m.\u001b[0m\u001b[0mtransform\u001b[0m\u001b[0;34m(\u001b[0m\u001b[0mX\u001b[0m\u001b[0;34m)\u001b[0m\u001b[0;34m\u001b[0m\u001b[0;34m\u001b[0m\u001b[0m\n\u001b[0m\u001b[1;32m    917\u001b[0m         \u001b[0;32melse\u001b[0m\u001b[0;34m:\u001b[0m\u001b[0;34m\u001b[0m\u001b[0;34m\u001b[0m\u001b[0m\n\u001b[1;32m    918\u001b[0m             \u001b[0;31m# fit method of arity 2 (supervised transformation)\u001b[0m\u001b[0;34m\u001b[0m\u001b[0;34m\u001b[0m\u001b[0m\n",
            "\u001b[0;32m/usr/local/lib/python3.10/dist-packages/sklearn/preprocessing/_data.py\u001b[0m in \u001b[0;36mfit\u001b[0;34m(self, X, y)\u001b[0m\n\u001b[1;32m    433\u001b[0m         \u001b[0;31m# Reset internal state before fitting\u001b[0m\u001b[0;34m\u001b[0m\u001b[0;34m\u001b[0m\u001b[0m\n\u001b[1;32m    434\u001b[0m         \u001b[0mself\u001b[0m\u001b[0;34m.\u001b[0m\u001b[0m_reset\u001b[0m\u001b[0;34m(\u001b[0m\u001b[0;34m)\u001b[0m\u001b[0;34m\u001b[0m\u001b[0;34m\u001b[0m\u001b[0m\n\u001b[0;32m--> 435\u001b[0;31m         \u001b[0;32mreturn\u001b[0m \u001b[0mself\u001b[0m\u001b[0;34m.\u001b[0m\u001b[0mpartial_fit\u001b[0m\u001b[0;34m(\u001b[0m\u001b[0mX\u001b[0m\u001b[0;34m,\u001b[0m \u001b[0my\u001b[0m\u001b[0;34m)\u001b[0m\u001b[0;34m\u001b[0m\u001b[0;34m\u001b[0m\u001b[0m\n\u001b[0m\u001b[1;32m    436\u001b[0m \u001b[0;34m\u001b[0m\u001b[0m\n\u001b[1;32m    437\u001b[0m     \u001b[0;34m@\u001b[0m\u001b[0m_fit_context\u001b[0m\u001b[0;34m(\u001b[0m\u001b[0mprefer_skip_nested_validation\u001b[0m\u001b[0;34m=\u001b[0m\u001b[0;32mTrue\u001b[0m\u001b[0;34m)\u001b[0m\u001b[0;34m\u001b[0m\u001b[0;34m\u001b[0m\u001b[0m\n",
            "\u001b[0;32m/usr/local/lib/python3.10/dist-packages/sklearn/base.py\u001b[0m in \u001b[0;36mwrapper\u001b[0;34m(estimator, *args, **kwargs)\u001b[0m\n\u001b[1;32m   1150\u001b[0m                 )\n\u001b[1;32m   1151\u001b[0m             ):\n\u001b[0;32m-> 1152\u001b[0;31m                 \u001b[0;32mreturn\u001b[0m \u001b[0mfit_method\u001b[0m\u001b[0;34m(\u001b[0m\u001b[0mestimator\u001b[0m\u001b[0;34m,\u001b[0m \u001b[0;34m*\u001b[0m\u001b[0margs\u001b[0m\u001b[0;34m,\u001b[0m \u001b[0;34m**\u001b[0m\u001b[0mkwargs\u001b[0m\u001b[0;34m)\u001b[0m\u001b[0;34m\u001b[0m\u001b[0;34m\u001b[0m\u001b[0m\n\u001b[0m\u001b[1;32m   1153\u001b[0m \u001b[0;34m\u001b[0m\u001b[0m\n\u001b[1;32m   1154\u001b[0m         \u001b[0;32mreturn\u001b[0m \u001b[0mwrapper\u001b[0m\u001b[0;34m\u001b[0m\u001b[0;34m\u001b[0m\u001b[0m\n",
            "\u001b[0;32m/usr/local/lib/python3.10/dist-packages/sklearn/preprocessing/_data.py\u001b[0m in \u001b[0;36mpartial_fit\u001b[0;34m(self, X, y)\u001b[0m\n\u001b[1;32m    471\u001b[0m \u001b[0;34m\u001b[0m\u001b[0m\n\u001b[1;32m    472\u001b[0m         \u001b[0mfirst_pass\u001b[0m \u001b[0;34m=\u001b[0m \u001b[0;32mnot\u001b[0m \u001b[0mhasattr\u001b[0m\u001b[0;34m(\u001b[0m\u001b[0mself\u001b[0m\u001b[0;34m,\u001b[0m \u001b[0;34m\"n_samples_seen_\"\u001b[0m\u001b[0;34m)\u001b[0m\u001b[0;34m\u001b[0m\u001b[0;34m\u001b[0m\u001b[0m\n\u001b[0;32m--> 473\u001b[0;31m         X = self._validate_data(\n\u001b[0m\u001b[1;32m    474\u001b[0m             \u001b[0mX\u001b[0m\u001b[0;34m,\u001b[0m\u001b[0;34m\u001b[0m\u001b[0;34m\u001b[0m\u001b[0m\n\u001b[1;32m    475\u001b[0m             \u001b[0mreset\u001b[0m\u001b[0;34m=\u001b[0m\u001b[0mfirst_pass\u001b[0m\u001b[0;34m,\u001b[0m\u001b[0;34m\u001b[0m\u001b[0;34m\u001b[0m\u001b[0m\n",
            "\u001b[0;32m/usr/local/lib/python3.10/dist-packages/sklearn/base.py\u001b[0m in \u001b[0;36m_validate_data\u001b[0;34m(self, X, y, reset, validate_separately, cast_to_ndarray, **check_params)\u001b[0m\n\u001b[1;32m    603\u001b[0m                 \u001b[0mout\u001b[0m \u001b[0;34m=\u001b[0m \u001b[0mX\u001b[0m\u001b[0;34m,\u001b[0m \u001b[0my\u001b[0m\u001b[0;34m\u001b[0m\u001b[0;34m\u001b[0m\u001b[0m\n\u001b[1;32m    604\u001b[0m         \u001b[0;32melif\u001b[0m \u001b[0;32mnot\u001b[0m \u001b[0mno_val_X\u001b[0m \u001b[0;32mand\u001b[0m \u001b[0mno_val_y\u001b[0m\u001b[0;34m:\u001b[0m\u001b[0;34m\u001b[0m\u001b[0;34m\u001b[0m\u001b[0m\n\u001b[0;32m--> 605\u001b[0;31m             \u001b[0mout\u001b[0m \u001b[0;34m=\u001b[0m \u001b[0mcheck_array\u001b[0m\u001b[0;34m(\u001b[0m\u001b[0mX\u001b[0m\u001b[0;34m,\u001b[0m \u001b[0minput_name\u001b[0m\u001b[0;34m=\u001b[0m\u001b[0;34m\"X\"\u001b[0m\u001b[0;34m,\u001b[0m \u001b[0;34m**\u001b[0m\u001b[0mcheck_params\u001b[0m\u001b[0;34m)\u001b[0m\u001b[0;34m\u001b[0m\u001b[0;34m\u001b[0m\u001b[0m\n\u001b[0m\u001b[1;32m    606\u001b[0m         \u001b[0;32melif\u001b[0m \u001b[0mno_val_X\u001b[0m \u001b[0;32mand\u001b[0m \u001b[0;32mnot\u001b[0m \u001b[0mno_val_y\u001b[0m\u001b[0;34m:\u001b[0m\u001b[0;34m\u001b[0m\u001b[0;34m\u001b[0m\u001b[0m\n\u001b[1;32m    607\u001b[0m             \u001b[0mout\u001b[0m \u001b[0;34m=\u001b[0m \u001b[0m_check_y\u001b[0m\u001b[0;34m(\u001b[0m\u001b[0my\u001b[0m\u001b[0;34m,\u001b[0m \u001b[0;34m**\u001b[0m\u001b[0mcheck_params\u001b[0m\u001b[0;34m)\u001b[0m\u001b[0;34m\u001b[0m\u001b[0;34m\u001b[0m\u001b[0m\n",
            "\u001b[0;32m/usr/local/lib/python3.10/dist-packages/sklearn/utils/validation.py\u001b[0m in \u001b[0;36mcheck_array\u001b[0;34m(array, accept_sparse, accept_large_sparse, dtype, order, copy, force_all_finite, ensure_2d, allow_nd, ensure_min_samples, ensure_min_features, estimator, input_name)\u001b[0m\n\u001b[1;32m    965\u001b[0m         \u001b[0mn_samples\u001b[0m \u001b[0;34m=\u001b[0m \u001b[0m_num_samples\u001b[0m\u001b[0;34m(\u001b[0m\u001b[0marray\u001b[0m\u001b[0;34m)\u001b[0m\u001b[0;34m\u001b[0m\u001b[0;34m\u001b[0m\u001b[0m\n\u001b[1;32m    966\u001b[0m         \u001b[0;32mif\u001b[0m \u001b[0mn_samples\u001b[0m \u001b[0;34m<\u001b[0m \u001b[0mensure_min_samples\u001b[0m\u001b[0;34m:\u001b[0m\u001b[0;34m\u001b[0m\u001b[0;34m\u001b[0m\u001b[0m\n\u001b[0;32m--> 967\u001b[0;31m             raise ValueError(\n\u001b[0m\u001b[1;32m    968\u001b[0m                 \u001b[0;34m\"Found array with %d sample(s) (shape=%s) while a\"\u001b[0m\u001b[0;34m\u001b[0m\u001b[0;34m\u001b[0m\u001b[0m\n\u001b[1;32m    969\u001b[0m                 \u001b[0;34m\" minimum of %d is required%s.\"\u001b[0m\u001b[0;34m\u001b[0m\u001b[0;34m\u001b[0m\u001b[0m\n",
            "\u001b[0;31mValueError\u001b[0m: Found array with 0 sample(s) (shape=(0, 6)) while a minimum of 1 is required by MinMaxScaler."
          ]
        }
      ]
    },
    {
      "cell_type": "markdown",
      "source": [
        "# New Section"
      ],
      "metadata": {
        "id": "erzC3B4GMpdo"
      }
    },
    {
      "cell_type": "code",
      "source": [
        "import os\n",
        "import pandas as pd\n",
        "\n",
        "# Check if the file exists\n",
        "file_path = '/AWCustomers.csv'\n",
        "if os.path.exists(file_path):\n",
        "    df = pd.read_csv(file_path)\n",
        "    print(df.head())\n",
        "else:\n",
        "    print(f\"File not found: {file_path}\")\n",
        "    # List all files in the current directory\n",
        "    print(\"Files in the current directory:\", os.listdir('.'))"
      ],
      "metadata": {
        "colab": {
          "base_uri": "https://localhost:8080/"
        },
        "id": "FEKuPHIPMrkb",
        "outputId": "e659da6d-72f4-48b8-f5e7-285296f49d03"
      },
      "execution_count": null,
      "outputs": [
        {
          "output_type": "stream",
          "name": "stdout",
          "text": [
            "   CustomerID Title FirstName MiddleName  LastName Suffix  \\\n",
            "0       21173   NaN      Chad          C      Yuan    NaN   \n",
            "1       13249   NaN      Ryan        NaN     Perry    NaN   \n",
            "2       29350   NaN     Julia        NaN  Thompson    NaN   \n",
            "3       13503   NaN  Theodore        NaN     Gomez    NaN   \n",
            "4       22803   NaN  Marshall          J      Shan    NaN   \n",
            "\n",
            "             AddressLine1 AddressLine2         City    StateProvinceName  ...  \\\n",
            "0      7090 C. Mount Hood          NaN   Wollongong      New South Wales  ...   \n",
            "1     3651 Willow Lake Rd          NaN      Shawnee     British Columbia  ...   \n",
            "2  1774 Tice Valley Blvd.          NaN  West Covina           California  ...   \n",
            "3         2103 Baldwin Dr          NaN    Liverpool              England  ...   \n",
            "4         Am Gallberg 234          NaN        Werne  Nordrhein-Westfalen  ...   \n",
            "\n",
            "         Education      Occupation Gender MaritalStatus HomeOwnerFlag  \\\n",
            "0        Bachelors        Clerical      M             M             1   \n",
            "1  Partial College        Clerical      M             M             1   \n",
            "2        Bachelors        Clerical      F             S             0   \n",
            "3  Partial College  Skilled Manual      M             M             1   \n",
            "4  Partial College  Skilled Manual      M             S             1   \n",
            "\n",
            "  NumberCarsOwned NumberChildrenAtHome TotalChildren  YearlyIncome  \\\n",
            "0               3                    0             1         81916   \n",
            "1               2                    1             2         81076   \n",
            "2               3                    0             0         86387   \n",
            "3               2                    1             2         61481   \n",
            "4               1                    0             0         51804   \n",
            "\n",
            "   LastUpdated  \n",
            "0   06-03-2017  \n",
            "1   06-03-2017  \n",
            "2   06-03-2017  \n",
            "3   06-03-2017  \n",
            "4   06-03-2017  \n",
            "\n",
            "[5 rows x 24 columns]\n"
          ]
        }
      ]
    },
    {
      "cell_type": "code",
      "source": [
        "import pandas as pd\n",
        "\n",
        "# Assuming df is your DataFrame\n",
        "# Check for missing values\n",
        "print(df.isnull().sum())\n",
        "\n",
        "\n",
        "\n",
        "# Option 2: Fill missing values\n",
        "# For numeric columns, you could fill with the mean, median, or any other value\n",
        "df.fillna(df.mean(), inplace=True)\n",
        "\n",
        "\n",
        "\n",
        "# Check again for missing values\n",
        "print(df.isnull().sum())\n"
      ],
      "metadata": {
        "colab": {
          "base_uri": "https://localhost:8080/"
        },
        "id": "nIRqdAoGND5G",
        "outputId": "ca1af4e7-bcc9-4f1c-feea-36ac23528881"
      },
      "execution_count": null,
      "outputs": [
        {
          "output_type": "stream",
          "name": "stdout",
          "text": [
            "CustomerID              0\n",
            "Title                   0\n",
            "FirstName               0\n",
            "MiddleName              0\n",
            "LastName                0\n",
            "Suffix                  0\n",
            "AddressLine1            0\n",
            "AddressLine2            0\n",
            "City                    0\n",
            "StateProvinceName       0\n",
            "CountryRegionName       0\n",
            "PostalCode              0\n",
            "PhoneNumber             0\n",
            "BirthDate               0\n",
            "Education               0\n",
            "Occupation              0\n",
            "Gender                  0\n",
            "MaritalStatus           0\n",
            "HomeOwnerFlag           0\n",
            "NumberCarsOwned         0\n",
            "NumberChildrenAtHome    0\n",
            "TotalChildren           0\n",
            "YearlyIncome            0\n",
            "LastUpdated             0\n",
            "dtype: int64\n",
            "CustomerID              0\n",
            "Title                   0\n",
            "FirstName               0\n",
            "MiddleName              0\n",
            "LastName                0\n",
            "Suffix                  0\n",
            "AddressLine1            0\n",
            "AddressLine2            0\n",
            "City                    0\n",
            "StateProvinceName       0\n",
            "CountryRegionName       0\n",
            "PostalCode              0\n",
            "PhoneNumber             0\n",
            "BirthDate               0\n",
            "Education               0\n",
            "Occupation              0\n",
            "Gender                  0\n",
            "MaritalStatus           0\n",
            "HomeOwnerFlag           0\n",
            "NumberCarsOwned         0\n",
            "NumberChildrenAtHome    0\n",
            "TotalChildren           0\n",
            "YearlyIncome            0\n",
            "LastUpdated             0\n",
            "dtype: int64\n"
          ]
        }
      ]
    },
    {
      "cell_type": "code",
      "source": [
        "import pandas as pd\n",
        "from sklearn.preprocessing import MinMaxScaler\n",
        "\n",
        "# Assuming df is your DataFrame\n",
        "# Check for missing values\n",
        "print(df.isnull().sum())\n",
        "\n",
        "# Option 1: Drop rows with any missing values\n",
        "# df = df.dropna()\n",
        "# Instead of dropping all rows with missing values, consider dropping only\n",
        "# rows where all values are missing. If this doesn't work for your data\n",
        "# you may have to explore other imputation techniques\n",
        "df = df.dropna(how='all')\n",
        "\n",
        "\n",
        "# Option 2: Fill missing values\n",
        "# For numeric columns, you could fill with the mean, median, or any other value\n",
        "df.fillna(df.mean(), inplace=True)\n",
        "\n",
        "# Check again for missing values\n",
        "print(df.isnull().sum())\n",
        "\n",
        "# Check if the DataFrame is empty\n",
        "if df.empty:\n",
        "    print(\"DataFrame is empty. Cannot perform scaling.\")\n",
        "else:\n",
        "    scaler = MinMaxScaler()\n",
        "\n",
        "    # Normalize only the numerical features\n",
        "    numerical_features = df.select_dtypes(include=['int64', 'float64']).columns\n",
        "    df[numerical_features] = scaler.fit_transform(df[numerical_features])\n",
        "\n",
        "    print(df.head())\n"
      ],
      "metadata": {
        "colab": {
          "base_uri": "https://localhost:8080/"
        },
        "id": "qSfw6i_UNShg",
        "outputId": "b74d257e-2a97-468b-a293-02d67b22a106"
      },
      "execution_count": null,
      "outputs": [
        {
          "output_type": "stream",
          "name": "stdout",
          "text": [
            "CustomerID              0\n",
            "Title                   0\n",
            "FirstName               0\n",
            "MiddleName              0\n",
            "LastName                0\n",
            "Suffix                  0\n",
            "AddressLine1            0\n",
            "AddressLine2            0\n",
            "City                    0\n",
            "StateProvinceName       0\n",
            "CountryRegionName       0\n",
            "PostalCode              0\n",
            "PhoneNumber             0\n",
            "BirthDate               0\n",
            "Education               0\n",
            "Occupation              0\n",
            "Gender                  0\n",
            "MaritalStatus           0\n",
            "HomeOwnerFlag           0\n",
            "NumberCarsOwned         0\n",
            "NumberChildrenAtHome    0\n",
            "TotalChildren           0\n",
            "YearlyIncome            0\n",
            "LastUpdated             0\n",
            "dtype: int64\n",
            "CustomerID              0\n",
            "Title                   0\n",
            "FirstName               0\n",
            "MiddleName              0\n",
            "LastName                0\n",
            "Suffix                  0\n",
            "AddressLine1            0\n",
            "AddressLine2            0\n",
            "City                    0\n",
            "StateProvinceName       0\n",
            "CountryRegionName       0\n",
            "PostalCode              0\n",
            "PhoneNumber             0\n",
            "BirthDate               0\n",
            "Education               0\n",
            "Occupation              0\n",
            "Gender                  0\n",
            "MaritalStatus           0\n",
            "HomeOwnerFlag           0\n",
            "NumberCarsOwned         0\n",
            "NumberChildrenAtHome    0\n",
            "TotalChildren           0\n",
            "YearlyIncome            0\n",
            "LastUpdated             0\n",
            "dtype: int64\n",
            "DataFrame is empty. Cannot perform scaling.\n"
          ]
        }
      ]
    }
  ]
}