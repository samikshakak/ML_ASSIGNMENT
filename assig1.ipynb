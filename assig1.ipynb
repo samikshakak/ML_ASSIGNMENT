{
  "cells": [
    {
      "cell_type": "markdown",
      "metadata": {
        "id": "view-in-github",
        "colab_type": "text"
      },
      "source": [
        "<a href=\"https://colab.research.google.com/github/samikshakak/ML_ASSIGNMENT/blob/main/assig1.ipynb\" target=\"_parent\"><img src=\"https://colab.research.google.com/assets/colab-badge.svg\" alt=\"Open In Colab\"/></a>"
      ]
    },
    {
      "cell_type": "code",
      "execution_count": null,
      "metadata": {
        "colab": {
          "base_uri": "https://localhost:8080/"
        },
        "id": "d7rl04N9--4j",
        "outputId": "e7d40319-51b9-4805-c1d7-01c2fb74fb2a"
      },
      "outputs": [
        {
          "name": "stdout",
          "output_type": "stream",
          "text": [
            "[5 4 6 3 2 1]\n"
          ]
        }
      ],
      "source": [
        "import numpy as np\n",
        "\n",
        "arr = np.array([1, 2, 3, 6, 4, 5])\n",
        "reversed_arr = arr[::-1]\n",
        "\n",
        "print(reversed_arr)\n"
      ]
    },
    {
      "cell_type": "code",
      "execution_count": null,
      "metadata": {
        "colab": {
          "base_uri": "https://localhost:8080/"
        },
        "id": "sSw_ZOweAPA7",
        "outputId": "7c98c94e-2c68-42f4-e963-e320c3a69aee"
      },
      "outputs": [
        {
          "name": "stdout",
          "output_type": "stream",
          "text": [
            "Flattened using flatten(): [1 2 3 2 4 5 1 2 3]\n",
            "Flattened using ravel(): [1 2 3 2 4 5 1 2 3]\n"
          ]
        }
      ],
      "source": [
        "import numpy as np\n",
        "\n",
        "\n",
        "array1 = np.array([[1, 2, 3], [2, 4, 5], [1, 2, 3]])\n",
        "\n",
        "\n",
        "flattened_array_flatten = array1.flatten()\n",
        "print(\"Flattened using flatten():\", flattened_array_flatten)\n",
        "\n",
        "\n",
        "flattened_array_ravel = array1.ravel()\n",
        "print(\"Flattened using ravel():\", flattened_array_ravel)\n"
      ]
    },
    {
      "cell_type": "code",
      "execution_count": null,
      "metadata": {
        "colab": {
          "base_uri": "https://localhost:8080/"
        },
        "id": "oIGfmBN5A5r9",
        "outputId": "8c100949-c6f8-45e8-b1cb-f7e739601ed9"
      },
      "outputs": [
        {
          "name": "stdout",
          "output_type": "stream",
          "text": [
            "[[ True  True]\n",
            " [ True  True]]\n"
          ]
        }
      ],
      "source": [
        "import numpy as np\n",
        "\n",
        "arr1 = np.array([[1, 2], [3, 4]])\n",
        "arr2 = np.array([[1, 2], [3, 4]])\n",
        "\n",
        "comparison = arr1 == arr2\n",
        "print(comparison)\n"
      ]
    },
    {
      "cell_type": "code",
      "execution_count": null,
      "metadata": {
        "colab": {
          "base_uri": "https://localhost:8080/"
        },
        "id": "eyjeu2WeBddE",
        "outputId": "875f980e-c964-46e9-b31b-c85f0a3c248f"
      },
      "outputs": [
        {
          "name": "stdout",
          "output_type": "stream",
          "text": [
            "Array x:\n",
            "Most frequent value: 1\n",
            "Indices of the most frequent value: [0 5 7 8 9]\n"
          ]
        }
      ],
      "source": [
        "import numpy as np\n",
        "\n",
        "x = np.array([1, 2, 3, 4, 5, 1, 2, 1, 1, 1])\n",
        "\n",
        "\n",
        "counts = np.bincount(x)\n",
        "\n",
        "most_frequent_value = np.argmax(counts)\n",
        "\n",
        "indices = np.where(x == most_frequent_value)[0]\n",
        "\n",
        "print(\"Array x:\")\n",
        "print(\"Most frequent value:\", most_frequent_value)\n",
        "print(\"Indices of the most frequent value:\", indices)\n"
      ]
    },
    {
      "cell_type": "code",
      "execution_count": null,
      "metadata": {
        "colab": {
          "base_uri": "https://localhost:8080/"
        },
        "id": "mpvjtNuZBic6",
        "outputId": "c999d3a1-039f-4b6c-97a4-2635f9c0b0bc"
      },
      "outputs": [
        {
          "name": "stdout",
          "output_type": "stream",
          "text": [
            "Array y:\n",
            "Most frequent value: 1\n",
            "Indices of the most frequent value: [0 1 2]\n"
          ]
        }
      ],
      "source": [
        "import numpy as np\n",
        "\n",
        "y = np.array([1, 1, 1, 2, 3, 4, 2, 4, 3, 3])\n",
        "\n",
        "\n",
        "counts = np.bincount(y)\n",
        "\n",
        "most_frequent_value = np.argmax(counts)\n",
        "\n",
        "indices = np.where(y == most_frequent_value)[0]\n",
        "\n",
        "print(\"Array y:\")\n",
        "print(\"Most frequent value:\", most_frequent_value)\n",
        "print(\"Indices of the most frequent value:\", indices)\n"
      ]
    },
    {
      "cell_type": "code",
      "execution_count": null,
      "metadata": {
        "colab": {
          "base_uri": "https://localhost:8080/"
        },
        "id": "QUyUvd_CBsFC",
        "outputId": "edbfd46d-bf96-4b2b-d3ca-0656246d3f73"
      },
      "outputs": [
        {
          "name": "stdout",
          "output_type": "stream",
          "text": [
            "Sum of all elements: 45\n",
            "Sum of all elements row-wise: [[14]\n",
            " [16]\n",
            " [15]]\n",
            "Sum of all elements column-wise: [[20  9 16]]\n",
            "Sum of all elements: 45\n",
            "Sum of all elements row-wise: [[14]\n",
            " [16]\n",
            " [15]]\n",
            "Sum of all elements column-wise: [[20  9 16]]\n"
          ]
        }
      ],
      "source": [
        "import numpy as np\n",
        "\n",
        "\n",
        "gfg = np.matrix('[4, 1, 9; 12, 3, 1; 4, 5, 6]')\n",
        "\n",
        "\n",
        "sum_all_elements = np.sum(gfg)\n",
        "\n",
        "\n",
        "sum_row_wise = np.sum(gfg, axis=1)\n",
        "\n",
        "\n",
        "sum_column_wise = np.sum(gfg, axis=0)\n",
        "\n",
        "print(\"Sum of all elements:\", sum_all_elements)\n",
        "print(\"Sum of all elements row-wise:\", sum_row_wise)\n",
        "print(\"Sum of all elements column-wise:\", sum_column_wise)\n"
      ]
    },
    {
      "cell_type": "code",
      "execution_count": null,
      "metadata": {
        "colab": {
          "base_uri": "https://localhost:8080/"
        },
        "id": "PeCenot9CFYE",
        "outputId": "fe5f3103-6351-4296-aee5-102b904d2a69"
      },
      "outputs": [
        {
          "name": "stdout",
          "output_type": "stream",
          "text": [
            "Sum of diagonal elements: 176\n",
            "Eigenvalues of the matrix: [98.16835147 28.097044   49.73460452]\n",
            "Eigenvectors of the matrix:\n",
            " [[ 0.4574917   0.34637121 -0.15017693]\n",
            " [ 0.28447814 -0.72784061 -0.4852124 ]\n",
            " [ 0.84248058  0.59184038  0.8614034 ]]\n",
            "Inverse of the matrix:\n",
            " [[ 0.02404141 -0.00911212 -0.00444671]\n",
            " [-0.01667882  0.02966905  0.0024785 ]\n",
            " [ 0.00631287 -0.01603732  0.01217379]]\n",
            "Determinant of the matrix: 137180.0000000001\n"
          ]
        }
      ],
      "source": [
        "import numpy as np\n",
        "\n",
        "\n",
        "n_array = np.array([[55, 25, 15], [30, 44, 2], [11, 45, 77]])\n",
        "\n",
        "\n",
        "sum_diagonal = np.trace(n_array)\n",
        "print(\"Sum of diagonal elements:\", sum_diagonal)\n",
        "\n",
        "\n",
        "eigenvalues, eigenvectors = np.linalg.eig(n_array)\n",
        "print(\"Eigenvalues of the matrix:\", eigenvalues)\n",
        "print(\"Eigenvectors of the matrix:\\n\", eigenvectors)\n",
        "\n",
        "\n",
        "inverse_matrix = np.linalg.inv(n_array)\n",
        "print(\"Inverse of the matrix:\\n\", inverse_matrix)\n",
        "\n",
        "\n",
        "determinant = np.linalg.det(n_array)\n",
        "print(\"Determinant of the matrix:\", determinant)\n"
      ]
    },
    {
      "cell_type": "code",
      "execution_count": null,
      "metadata": {
        "colab": {
          "base_uri": "https://localhost:8080/"
        },
        "id": "lmm_BcqyCXqi",
        "outputId": "f84c4f3b-0f81-49b3-9b7c-4e6e63a353cf"
      },
      "outputs": [
        {
          "name": "stdout",
          "output_type": "stream",
          "text": [
            "Product of matrices p1 and q1:\n",
            " [[16 19]\n",
            " [26 31]]\n",
            "Covariance matrix between flattened p1 and q1:\n",
            " [[0.5  0.75]\n",
            " [0.75 1.25]]\n"
          ]
        }
      ],
      "source": [
        "import numpy as np\n",
        "\n",
        "p1 = np.array([[1, 2], [2, 3]])\n",
        "q1 = np.array([[4, 5], [6, 7]])\n",
        "\n",
        "\n",
        "product1 = np.dot(p1, q1)\n",
        "print(\"Product of matrices p1 and q1:\\n\", product1)\n",
        "\n",
        "p1_flat = p1.flatten()\n",
        "q1_flat = q1.flatten()\n",
        "\n",
        "cov_matrix1 = np.cov(p1_flat, q1_flat, bias=True)\n",
        "print(\"Covariance matrix between flattened p1 and q1:\\n\", cov_matrix1)\n"
      ]
    },
    {
      "cell_type": "code",
      "execution_count": null,
      "metadata": {
        "colab": {
          "base_uri": "https://localhost:8080/"
        },
        "id": "VATk6L5hCvWK",
        "outputId": "b5771149-e79c-444b-946c-5483f0a263e0"
      },
      "outputs": [
        {
          "name": "stdout",
          "output_type": "stream",
          "text": [
            "Inner product (matrix multiplication):\n",
            " [[17 52]\n",
            " [13 62]]\n",
            "Outer product of the first rows (x[0] and y[0]):\n",
            " [[ 2 10  0]\n",
            " [ 3 15  0]\n",
            " [ 4 20  0]]\n",
            "Outer product of the second rows (x[1] and y[1]):\n",
            " [[15 30  9]\n",
            " [10 20  6]\n",
            " [45 90 27]]\n",
            "Cartesian product:\n",
            " [[ 2  1]\n",
            " [ 2  5]\n",
            " [ 2  0]\n",
            " [ 2  5]\n",
            " [ 2 10]\n",
            " [ 2  3]\n",
            " [ 3  1]\n",
            " [ 3  5]\n",
            " [ 3  0]\n",
            " [ 3  5]\n",
            " [ 3 10]\n",
            " [ 3  3]\n",
            " [ 4  1]\n",
            " [ 4  5]\n",
            " [ 4  0]\n",
            " [ 4  5]\n",
            " [ 4 10]\n",
            " [ 4  3]\n",
            " [ 3  1]\n",
            " [ 3  5]\n",
            " [ 3  0]\n",
            " [ 3  5]\n",
            " [ 3 10]\n",
            " [ 3  3]\n",
            " [ 2  1]\n",
            " [ 2  5]\n",
            " [ 2  0]\n",
            " [ 2  5]\n",
            " [ 2 10]\n",
            " [ 2  3]\n",
            " [ 9  1]\n",
            " [ 9  5]\n",
            " [ 9  0]\n",
            " [ 9  5]\n",
            " [ 9 10]\n",
            " [ 9  3]]\n"
          ]
        }
      ],
      "source": [
        "import numpy as np\n",
        "\n",
        "\n",
        "x = np.array([[2, 3, 4], [3, 2, 9]])\n",
        "y = np.array([[1, 5, 0], [5, 10, 3]])\n",
        "\n",
        "\n",
        "inner_product = np.dot(x, y.T)\n",
        "print(\"Inner product (matrix multiplication):\\n\", inner_product)\n",
        "\n",
        "\n",
        "outer_product_x_row1_y_row1 = np.outer(x[0], y[0])\n",
        "\n",
        "outer_product_x_row2_y_row2 = np.outer(x[1], y[1])\n",
        "\n",
        "print(\"Outer product of the first rows (x[0] and y[0]):\\n\", outer_product_x_row1_y_row1)\n",
        "print(\"Outer product of the second rows (x[1] and y[1]):\\n\", outer_product_x_row2_y_row2)\n",
        "\n",
        "\n",
        "X, Y = np.meshgrid(x, y, indexing='ij')\n",
        "cartesian_product = np.vstack([X.ravel(), Y.ravel()]).T\n",
        "\n",
        "print(\"Cartesian product:\\n\", cartesian_product)\n"
      ]
    },
    {
      "cell_type": "code",
      "execution_count": null,
      "metadata": {
        "colab": {
          "base_uri": "https://localhost:8080/"
        },
        "id": "olSD7Lk2DO3i",
        "outputId": "408b8c33-aa1c-4dc9-ecb7-8efa5e3238c4"
      },
      "outputs": [
        {
          "data": {
            "text/plain": [
              "(array([[1, 2, 3],\n",
              "        [4, 5, 6]]),\n",
              " array([-3.5, -0.5,  2.5]),\n",
              " array([[-2.75, -0.25, -3.75],\n",
              "        [-1.5 ,  1.5 , -1.5 ],\n",
              "        [-0.25,  3.25,  0.75]]),\n",
              " array([[-0.5, -5. ],\n",
              "        [ 1. , -4. ],\n",
              "        [ 2. ,  0.5]]),\n",
              " -0.5,\n",
              " -0.5,\n",
              " 3.8622100754188224,\n",
              " array([-1.5,  1.5, -1.5]),\n",
              " array([-1.5,  1.5, -1.5]),\n",
              " array([2.5, 3.5, 4.5]),\n",
              " array([ 0.66666667, -1.66666667]),\n",
              " array([ 1., -4.]),\n",
              " array([2.05480467, 4.78423336]))"
            ]
          },
          "execution_count": 11,
          "metadata": {},
          "output_type": "execute_result"
        }
      ],
      "source": [
        "import numpy as np\n",
        "\n",
        "\n",
        "array = np.array([[1, -2, 3], [-4, 5, -6]])\n",
        "\n",
        "\n",
        "abs_array = np.abs(array)\n",
        "\n",
        "\n",
        "flattened_array = array.flatten()\n",
        "percentiles_flattened = np.percentile(flattened_array, [25, 50, 75])\n",
        "percentiles_columns = np.percentile(array, [25, 50, 75], axis=0)\n",
        "percentiles_rows = np.percentile(array, [25, 50, 75], axis=1)\n",
        "\n",
        "\n",
        "mean_flattened = np.mean(flattened_array)\n",
        "median_flattened = np.median(flattened_array)\n",
        "std_flattened = np.std(flattened_array)\n",
        "\n",
        "mean_columns = np.mean(array, axis=0)\n",
        "median_columns = np.median(array, axis=0)\n",
        "std_columns = np.std(array, axis=0)\n",
        "\n",
        "mean_rows = np.mean(array, axis=1)\n",
        "median_rows = np.median(array, axis=1)\n",
        "std_rows = np.std(array, axis=1)\n",
        "\n",
        "(abs_array, percentiles_flattened, percentiles_columns, percentiles_rows,\n",
        " mean_flattened, median_flattened, std_flattened,\n",
        " mean_columns, median_columns, std_columns,\n",
        " mean_rows, median_rows, std_rows)\n"
      ]
    },
    {
      "cell_type": "code",
      "execution_count": null,
      "metadata": {
        "colab": {
          "base_uri": "https://localhost:8080/"
        },
        "id": "YOid0h5cEc-8",
        "outputId": "c414fac3-1f12-4b93-b760-53e6417a5297"
      },
      "outputs": [
        {
          "data": {
            "text/plain": [
              "(array([-2., -2., -1.,  0.,  1.,  1.,  3.]),\n",
              " array([-1., -1., -0.,  1.,  2.,  2.,  3.]),\n",
              " array([-1., -1., -0.,  0.,  1.,  1.,  3.]),\n",
              " array([-2., -2., -0.,  0.,  2.,  2.,  3.]))"
            ]
          },
          "execution_count": 12,
          "metadata": {},
          "output_type": "execute_result"
        }
      ],
      "source": [
        "import numpy as np\n",
        "\n",
        "\n",
        "a = np.array([-1.8, -1.6, -0.5, 0.5, 1.6, 1.8, 3.0])\n",
        "\n",
        "\n",
        "floor_values = np.floor(a)\n",
        "ceiling_values = np.ceil(a)\n",
        "truncated_values = np.trunc(a)\n",
        "rounded_values = np.round(a)\n",
        "\n",
        "(floor_values, ceiling_values, truncated_values, rounded_values)\n"
      ]
    },
    {
      "cell_type": "code",
      "execution_count": null,
      "metadata": {
        "colab": {
          "base_uri": "https://localhost:8080/"
        },
        "id": "JPDxSmFQEpDK",
        "outputId": "b762cd01-c2a3-4fb4-e348-f85ef47ebfbb"
      },
      "outputs": [
        {
          "data": {
            "text/plain": [
              "(array([ 10,  16,  16,  52,  54,  62, 453]),\n",
              " array([0, 3, 4, 1, 5, 2, 6]),\n",
              " array([16, 10, 16, 52]),\n",
              " array([ 16,  52,  62,  54, 453]))"
            ]
          },
          "execution_count": 13,
          "metadata": {},
          "output_type": "execute_result"
        }
      ],
      "source": [
        "import numpy as np\n",
        "\n",
        "\n",
        "array = np.array([10, 52, 62, 16, 16, 54, 453])\n",
        "\n",
        "\n",
        "sorted_array = np.sort(array)\n",
        "\n",
        "\n",
        "indices_sorted_array = np.argsort(array)\n",
        "\n",
        "\n",
        "smallest_elements = np.partition(array, 4)[:4]\n",
        "\n",
        "\n",
        "largest_elements = np.partition(array, -5)[-5:]\n",
        "\n",
        "(sorted_array, indices_sorted_array, smallest_elements, largest_elements)\n"
      ]
    },
    {
      "cell_type": "code",
      "execution_count": null,
      "metadata": {
        "colab": {
          "base_uri": "https://localhost:8080/"
        },
        "id": "cv2MiGIpE3qK",
        "outputId": "58fa7e99-f161-4dd9-8ea0-31145a7adfb6"
      },
      "outputs": [
        {
          "data": {
            "text/plain": [
              "(array([1., 2., 3., 2.]), array([1.2, 2.2]))"
            ]
          },
          "execution_count": 14,
          "metadata": {},
          "output_type": "execute_result"
        }
      ],
      "source": [
        "import numpy as np\n",
        "\n",
        "\n",
        "array = np.array([1.0, 1.2, 2.2, 2.0, 3.0, 2.0])\n",
        "\n",
        "\n",
        "integer_elements = array[array % 1 == 0]\n",
        "\n",
        "\n",
        "float_elements = array[array % 1 != 0]\n",
        "\n",
        "(integer_elements, float_elements)\n"
      ]
    },
    {
      "cell_type": "code",
      "execution_count": null,
      "metadata": {
        "colab": {
          "background_save": true,
          "base_uri": "https://localhost:8080/",
          "height": 94
        },
        "id": "-U-_21oqFZSa",
        "outputId": "21586dfe-f369-4b35-8136-12f31006645a"
      },
      "outputs": [
        {
          "data": {
            "text/html": [
              "\n",
              "     <input type=\"file\" id=\"files-8362dfbe-7559-4a77-b771-2449d081161e\" name=\"files[]\" multiple disabled\n",
              "        style=\"border:none\" />\n",
              "     <output id=\"result-8362dfbe-7559-4a77-b771-2449d081161e\">\n",
              "      Upload widget is only available when the cell has been executed in the\n",
              "      current browser session. Please rerun this cell to enable.\n",
              "      </output>\n",
              "      <script>// Copyright 2017 Google LLC\n",
              "//\n",
              "// Licensed under the Apache License, Version 2.0 (the \"License\");\n",
              "// you may not use this file except in compliance with the License.\n",
              "// You may obtain a copy of the License at\n",
              "//\n",
              "//      http://www.apache.org/licenses/LICENSE-2.0\n",
              "//\n",
              "// Unless required by applicable law or agreed to in writing, software\n",
              "// distributed under the License is distributed on an \"AS IS\" BASIS,\n",
              "// WITHOUT WARRANTIES OR CONDITIONS OF ANY KIND, either express or implied.\n",
              "// See the License for the specific language governing permissions and\n",
              "// limitations under the License.\n",
              "\n",
              "/**\n",
              " * @fileoverview Helpers for google.colab Python module.\n",
              " */\n",
              "(function(scope) {\n",
              "function span(text, styleAttributes = {}) {\n",
              "  const element = document.createElement('span');\n",
              "  element.textContent = text;\n",
              "  for (const key of Object.keys(styleAttributes)) {\n",
              "    element.style[key] = styleAttributes[key];\n",
              "  }\n",
              "  return element;\n",
              "}\n",
              "\n",
              "// Max number of bytes which will be uploaded at a time.\n",
              "const MAX_PAYLOAD_SIZE = 100 * 1024;\n",
              "\n",
              "function _uploadFiles(inputId, outputId) {\n",
              "  const steps = uploadFilesStep(inputId, outputId);\n",
              "  const outputElement = document.getElementById(outputId);\n",
              "  // Cache steps on the outputElement to make it available for the next call\n",
              "  // to uploadFilesContinue from Python.\n",
              "  outputElement.steps = steps;\n",
              "\n",
              "  return _uploadFilesContinue(outputId);\n",
              "}\n",
              "\n",
              "// This is roughly an async generator (not supported in the browser yet),\n",
              "// where there are multiple asynchronous steps and the Python side is going\n",
              "// to poll for completion of each step.\n",
              "// This uses a Promise to block the python side on completion of each step,\n",
              "// then passes the result of the previous step as the input to the next step.\n",
              "function _uploadFilesContinue(outputId) {\n",
              "  const outputElement = document.getElementById(outputId);\n",
              "  const steps = outputElement.steps;\n",
              "\n",
              "  const next = steps.next(outputElement.lastPromiseValue);\n",
              "  return Promise.resolve(next.value.promise).then((value) => {\n",
              "    // Cache the last promise value to make it available to the next\n",
              "    // step of the generator.\n",
              "    outputElement.lastPromiseValue = value;\n",
              "    return next.value.response;\n",
              "  });\n",
              "}\n",
              "\n",
              "/**\n",
              " * Generator function which is called between each async step of the upload\n",
              " * process.\n",
              " * @param {string} inputId Element ID of the input file picker element.\n",
              " * @param {string} outputId Element ID of the output display.\n",
              " * @return {!Iterable<!Object>} Iterable of next steps.\n",
              " */\n",
              "function* uploadFilesStep(inputId, outputId) {\n",
              "  const inputElement = document.getElementById(inputId);\n",
              "  inputElement.disabled = false;\n",
              "\n",
              "  const outputElement = document.getElementById(outputId);\n",
              "  outputElement.innerHTML = '';\n",
              "\n",
              "  const pickedPromise = new Promise((resolve) => {\n",
              "    inputElement.addEventListener('change', (e) => {\n",
              "      resolve(e.target.files);\n",
              "    });\n",
              "  });\n",
              "\n",
              "  const cancel = document.createElement('button');\n",
              "  inputElement.parentElement.appendChild(cancel);\n",
              "  cancel.textContent = 'Cancel upload';\n",
              "  const cancelPromise = new Promise((resolve) => {\n",
              "    cancel.onclick = () => {\n",
              "      resolve(null);\n",
              "    };\n",
              "  });\n",
              "\n",
              "  // Wait for the user to pick the files.\n",
              "  const files = yield {\n",
              "    promise: Promise.race([pickedPromise, cancelPromise]),\n",
              "    response: {\n",
              "      action: 'starting',\n",
              "    }\n",
              "  };\n",
              "\n",
              "  cancel.remove();\n",
              "\n",
              "  // Disable the input element since further picks are not allowed.\n",
              "  inputElement.disabled = true;\n",
              "\n",
              "  if (!files) {\n",
              "    return {\n",
              "      response: {\n",
              "        action: 'complete',\n",
              "      }\n",
              "    };\n",
              "  }\n",
              "\n",
              "  for (const file of files) {\n",
              "    const li = document.createElement('li');\n",
              "    li.append(span(file.name, {fontWeight: 'bold'}));\n",
              "    li.append(span(\n",
              "        `(${file.type || 'n/a'}) - ${file.size} bytes, ` +\n",
              "        `last modified: ${\n",
              "            file.lastModifiedDate ? file.lastModifiedDate.toLocaleDateString() :\n",
              "                                    'n/a'} - `));\n",
              "    const percent = span('0% done');\n",
              "    li.appendChild(percent);\n",
              "\n",
              "    outputElement.appendChild(li);\n",
              "\n",
              "    const fileDataPromise = new Promise((resolve) => {\n",
              "      const reader = new FileReader();\n",
              "      reader.onload = (e) => {\n",
              "        resolve(e.target.result);\n",
              "      };\n",
              "      reader.readAsArrayBuffer(file);\n",
              "    });\n",
              "    // Wait for the data to be ready.\n",
              "    let fileData = yield {\n",
              "      promise: fileDataPromise,\n",
              "      response: {\n",
              "        action: 'continue',\n",
              "      }\n",
              "    };\n",
              "\n",
              "    // Use a chunked sending to avoid message size limits. See b/62115660.\n",
              "    let position = 0;\n",
              "    do {\n",
              "      const length = Math.min(fileData.byteLength - position, MAX_PAYLOAD_SIZE);\n",
              "      const chunk = new Uint8Array(fileData, position, length);\n",
              "      position += length;\n",
              "\n",
              "      const base64 = btoa(String.fromCharCode.apply(null, chunk));\n",
              "      yield {\n",
              "        response: {\n",
              "          action: 'append',\n",
              "          file: file.name,\n",
              "          data: base64,\n",
              "        },\n",
              "      };\n",
              "\n",
              "      let percentDone = fileData.byteLength === 0 ?\n",
              "          100 :\n",
              "          Math.round((position / fileData.byteLength) * 100);\n",
              "      percent.textContent = `${percentDone}% done`;\n",
              "\n",
              "    } while (position < fileData.byteLength);\n",
              "  }\n",
              "\n",
              "  // All done.\n",
              "  yield {\n",
              "    response: {\n",
              "      action: 'complete',\n",
              "    }\n",
              "  };\n",
              "}\n",
              "\n",
              "scope.google = scope.google || {};\n",
              "scope.google.colab = scope.google.colab || {};\n",
              "scope.google.colab._files = {\n",
              "  _uploadFiles,\n",
              "  _uploadFilesContinue,\n",
              "};\n",
              "})(self);\n",
              "</script> "
            ],
            "text/plain": [
              "<IPython.core.display.HTML object>"
            ]
          },
          "metadata": {},
          "output_type": "display_data"
        },
        {
          "name": "stdout",
          "output_type": "stream",
          "text": [
            "Saving img.jpg to img (1).jpg\n"
          ]
        },
        {
          "data": {
            "text/html": [
              "\n",
              "     <input type=\"file\" id=\"files-c8bc8bb4-4332-4748-94e2-6c5e09557fbb\" name=\"files[]\" multiple disabled\n",
              "        style=\"border:none\" />\n",
              "     <output id=\"result-c8bc8bb4-4332-4748-94e2-6c5e09557fbb\">\n",
              "      Upload widget is only available when the cell has been executed in the\n",
              "      current browser session. Please rerun this cell to enable.\n",
              "      </output>\n",
              "      <script>// Copyright 2017 Google LLC\n",
              "//\n",
              "// Licensed under the Apache License, Version 2.0 (the \"License\");\n",
              "// you may not use this file except in compliance with the License.\n",
              "// You may obtain a copy of the License at\n",
              "//\n",
              "//      http://www.apache.org/licenses/LICENSE-2.0\n",
              "//\n",
              "// Unless required by applicable law or agreed to in writing, software\n",
              "// distributed under the License is distributed on an \"AS IS\" BASIS,\n",
              "// WITHOUT WARRANTIES OR CONDITIONS OF ANY KIND, either express or implied.\n",
              "// See the License for the specific language governing permissions and\n",
              "// limitations under the License.\n",
              "\n",
              "/**\n",
              " * @fileoverview Helpers for google.colab Python module.\n",
              " */\n",
              "(function(scope) {\n",
              "function span(text, styleAttributes = {}) {\n",
              "  const element = document.createElement('span');\n",
              "  element.textContent = text;\n",
              "  for (const key of Object.keys(styleAttributes)) {\n",
              "    element.style[key] = styleAttributes[key];\n",
              "  }\n",
              "  return element;\n",
              "}\n",
              "\n",
              "// Max number of bytes which will be uploaded at a time.\n",
              "const MAX_PAYLOAD_SIZE = 100 * 1024;\n",
              "\n",
              "function _uploadFiles(inputId, outputId) {\n",
              "  const steps = uploadFilesStep(inputId, outputId);\n",
              "  const outputElement = document.getElementById(outputId);\n",
              "  // Cache steps on the outputElement to make it available for the next call\n",
              "  // to uploadFilesContinue from Python.\n",
              "  outputElement.steps = steps;\n",
              "\n",
              "  return _uploadFilesContinue(outputId);\n",
              "}\n",
              "\n",
              "// This is roughly an async generator (not supported in the browser yet),\n",
              "// where there are multiple asynchronous steps and the Python side is going\n",
              "// to poll for completion of each step.\n",
              "// This uses a Promise to block the python side on completion of each step,\n",
              "// then passes the result of the previous step as the input to the next step.\n",
              "function _uploadFilesContinue(outputId) {\n",
              "  const outputElement = document.getElementById(outputId);\n",
              "  const steps = outputElement.steps;\n",
              "\n",
              "  const next = steps.next(outputElement.lastPromiseValue);\n",
              "  return Promise.resolve(next.value.promise).then((value) => {\n",
              "    // Cache the last promise value to make it available to the next\n",
              "    // step of the generator.\n",
              "    outputElement.lastPromiseValue = value;\n",
              "    return next.value.response;\n",
              "  });\n",
              "}\n",
              "\n",
              "/**\n",
              " * Generator function which is called between each async step of the upload\n",
              " * process.\n",
              " * @param {string} inputId Element ID of the input file picker element.\n",
              " * @param {string} outputId Element ID of the output display.\n",
              " * @return {!Iterable<!Object>} Iterable of next steps.\n",
              " */\n",
              "function* uploadFilesStep(inputId, outputId) {\n",
              "  const inputElement = document.getElementById(inputId);\n",
              "  inputElement.disabled = false;\n",
              "\n",
              "  const outputElement = document.getElementById(outputId);\n",
              "  outputElement.innerHTML = '';\n",
              "\n",
              "  const pickedPromise = new Promise((resolve) => {\n",
              "    inputElement.addEventListener('change', (e) => {\n",
              "      resolve(e.target.files);\n",
              "    });\n",
              "  });\n",
              "\n",
              "  const cancel = document.createElement('button');\n",
              "  inputElement.parentElement.appendChild(cancel);\n",
              "  cancel.textContent = 'Cancel upload';\n",
              "  const cancelPromise = new Promise((resolve) => {\n",
              "    cancel.onclick = () => {\n",
              "      resolve(null);\n",
              "    };\n",
              "  });\n",
              "\n",
              "  // Wait for the user to pick the files.\n",
              "  const files = yield {\n",
              "    promise: Promise.race([pickedPromise, cancelPromise]),\n",
              "    response: {\n",
              "      action: 'starting',\n",
              "    }\n",
              "  };\n",
              "\n",
              "  cancel.remove();\n",
              "\n",
              "  // Disable the input element since further picks are not allowed.\n",
              "  inputElement.disabled = true;\n",
              "\n",
              "  if (!files) {\n",
              "    return {\n",
              "      response: {\n",
              "        action: 'complete',\n",
              "      }\n",
              "    };\n",
              "  }\n",
              "\n",
              "  for (const file of files) {\n",
              "    const li = document.createElement('li');\n",
              "    li.append(span(file.name, {fontWeight: 'bold'}));\n",
              "    li.append(span(\n",
              "        `(${file.type || 'n/a'}) - ${file.size} bytes, ` +\n",
              "        `last modified: ${\n",
              "            file.lastModifiedDate ? file.lastModifiedDate.toLocaleDateString() :\n",
              "                                    'n/a'} - `));\n",
              "    const percent = span('0% done');\n",
              "    li.appendChild(percent);\n",
              "\n",
              "    outputElement.appendChild(li);\n",
              "\n",
              "    const fileDataPromise = new Promise((resolve) => {\n",
              "      const reader = new FileReader();\n",
              "      reader.onload = (e) => {\n",
              "        resolve(e.target.result);\n",
              "      };\n",
              "      reader.readAsArrayBuffer(file);\n",
              "    });\n",
              "    // Wait for the data to be ready.\n",
              "    let fileData = yield {\n",
              "      promise: fileDataPromise,\n",
              "      response: {\n",
              "        action: 'continue',\n",
              "      }\n",
              "    };\n",
              "\n",
              "    // Use a chunked sending to avoid message size limits. See b/62115660.\n",
              "    let position = 0;\n",
              "    do {\n",
              "      const length = Math.min(fileData.byteLength - position, MAX_PAYLOAD_SIZE);\n",
              "      const chunk = new Uint8Array(fileData, position, length);\n",
              "      position += length;\n",
              "\n",
              "      const base64 = btoa(String.fromCharCode.apply(null, chunk));\n",
              "      yield {\n",
              "        response: {\n",
              "          action: 'append',\n",
              "          file: file.name,\n",
              "          data: base64,\n",
              "        },\n",
              "      };\n",
              "\n",
              "      let percentDone = fileData.byteLength === 0 ?\n",
              "          100 :\n",
              "          Math.round((position / fileData.byteLength) * 100);\n",
              "      percent.textContent = `${percentDone}% done`;\n",
              "\n",
              "    } while (position < fileData.byteLength);\n",
              "  }\n",
              "\n",
              "  // All done.\n",
              "  yield {\n",
              "    response: {\n",
              "      action: 'complete',\n",
              "    }\n",
              "  };\n",
              "}\n",
              "\n",
              "scope.google = scope.google || {};\n",
              "scope.google.colab = scope.google.colab || {};\n",
              "scope.google.colab._files = {\n",
              "  _uploadFiles,\n",
              "  _uploadFilesContinue,\n",
              "};\n",
              "})(self);\n",
              "</script> "
            ],
            "text/plain": [
              "<IPython.core.display.HTML object>"
            ]
          },
          "metadata": {},
          "output_type": "display_data"
        }
      ],
      "source": [
        "import numpy as np\n",
        "from PIL import Image\n",
        "\n",
        "def img_to_array(path, save_path_rgb='rgb_image.txt', save_path_gray='gray_image.txt'):\n",
        "\n",
        "    img = Image.open(path)\n",
        "\n",
        "\n",
        "    if img.mode == 'RGB':\n",
        "        img_array = np.array(img)\n",
        "\n",
        "        np.savetxt(save_path_rgb, img_array.reshape(-1, img_array.shape[-1]), fmt='%d')\n",
        "    elif img.mode == 'L':\n",
        "        img_array = np.array(img)\n",
        "\n",
        "        np.savetxt(save_path_gray, img_array, fmt='%d')\n",
        "    else:\n",
        "        raise ValueError(\"Unsupported image mode\")\n",
        "\n",
        "    return img_array\n",
        "\n",
        "\n",
        "from google.colab import files\n",
        "uploaded = files.upload()\n",
        "\n",
        "for file_name in uploaded.keys():\n",
        "    img_array = img_to_array(file_name)\n",
        "    import numpy as np\n",
        "import matplotlib.pyplot as plt\n",
        "\n",
        "\n",
        "def load_rgb_image(file_path, original_shape):\n",
        "\n",
        "    flat_array = np.loadtxt(file_path, dtype=int)\n",
        "    img_array = flat_array.reshape(original_shape)\n",
        "    return img_array\n",
        "\n",
        "def load_gray_image(file_path):\n",
        "    img_array = np.loadtxt(file_path, dtype=int)\n",
        "    return img_array\n",
        "\n",
        "\n",
        "uploaded = files.upload()\n",
        "\n",
        "for file_name in uploaded.keys():\n",
        "    if 'rgb' in file_name:\n",
        "\n",
        "        rgb_img_array = load_rgb_image(file_name, (height, width, 3))\n",
        "        plt.imshow(rgb_img_array)\n",
        "        plt.show()\n",
        "    elif 'gray' in file_name:\n",
        "        gray_img_array = load_gray_image(file_name)\n",
        "        plt.imshow(gray_img_array, cmap='gray')\n",
        "        plt.show()\n",
        "\n"
      ]
    }
  ],
  "metadata": {
    "colab": {
      "provenance": [],
      "authorship_tag": "ABX9TyPuC0503LSJSe/zvXLSJW8k",
      "include_colab_link": true
    },
    "kernelspec": {
      "display_name": "Python 3",
      "name": "python3"
    },
    "language_info": {
      "name": "python"
    }
  },
  "nbformat": 4,
  "nbformat_minor": 0
}